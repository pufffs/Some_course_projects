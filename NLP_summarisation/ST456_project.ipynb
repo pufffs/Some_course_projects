{
 "cells": [
  {
   "cell_type": "markdown",
   "metadata": {
    "tags": []
   },
   "source": [
    "# Preparatory\n",
    "Import packages, setting configuration parameters and write an intergrated class for data pre-processing and reading."
   ]
  },
  {
   "cell_type": "code",
   "execution_count": 1,
   "metadata": {
    "colab": {
     "base_uri": "https://localhost:8080/"
    },
    "id": "gXgmFajdOG-R",
    "outputId": "32152826-fdc0-417c-cb56-a2986dc3d915"
   },
   "outputs": [
    {
     "name": "stdout",
     "output_type": "stream",
     "text": [
      "Looking in indexes: https://pypi.tuna.tsinghua.edu.cn/simple\n",
      "Requirement already satisfied: rouge in /environment/miniconda3/lib/python3.7/site-packages (1.0.1)\n",
      "Requirement already satisfied: six in /environment/miniconda3/lib/python3.7/site-packages (from rouge) (1.16.0)\n",
      "Looking in indexes: https://pypi.tuna.tsinghua.edu.cn/simple\n",
      "Requirement already satisfied: gensim in /environment/miniconda3/lib/python3.7/site-packages (4.1.2)\n",
      "Requirement already satisfied: numpy>=1.17.0 in /environment/miniconda3/lib/python3.7/site-packages (from gensim) (1.21.4)\n",
      "Requirement already satisfied: smart-open>=1.8.1 in /environment/miniconda3/lib/python3.7/site-packages (from gensim) (5.2.1)\n",
      "Requirement already satisfied: scipy>=0.18.1 in /environment/miniconda3/lib/python3.7/site-packages (from gensim) (1.7.3)\n"
     ]
    }
   ],
   "source": [
    "!pip install rouge\n",
    "!pip install gensim"
   ]
  },
  {
   "cell_type": "code",
   "execution_count": 431,
   "metadata": {
    "id": "Ccu3fzA1-OcT"
   },
   "outputs": [],
   "source": [
    "import tensorflow as tf\n",
    "from tensorflow.keras import layers\n",
    "from tensorflow import keras\n",
    "import numpy as np\n",
    "import os\n",
    "import json\n",
    "import gensim\n",
    "import pickle as pkl\n",
    "import collections\n",
    "import random\n",
    "from rouge import Rouge \n",
    "from sklearn import metrics\n",
    "import matplotlib.pyplot as plt\n",
    "\n",
    "import warnings\n",
    "warnings.filterwarnings(\"ignore\")"
   ]
  },
  {
   "cell_type": "code",
   "execution_count": 81,
   "metadata": {},
   "outputs": [
    {
     "data": {
      "text/plain": [
       "'/home/featurize'"
      ]
     },
     "execution_count": 81,
     "metadata": {},
     "output_type": "execute_result"
    }
   ],
   "source": [
    "os.getcwd()"
   ]
  },
  {
   "cell_type": "markdown",
   "metadata": {
    "id": "F4bCB7N7Jtos"
   },
   "source": [
    "**Configuration setting**"
   ]
  },
  {
   "cell_type": "code",
   "execution_count": 523,
   "metadata": {
    "id": "HkUaRzC2qUl2"
   },
   "outputs": [],
   "source": [
    "config ={}\n",
    "config['global'] = {} # global parameters\n",
    "config['embedding'] = {} # embedding layer parameters\n",
    "config['sent_encoder'] = {} # sentence encoder layer parameters\n",
    "config['doc_encoder'] = {} # document encoder parameters\n",
    "config['doc_decoder'] = {} # document decoder parameters\n",
    "config['embedding']['word2vec'] = {'embedding_dim':128, # embedding dimension\n",
    "                                   'vocab_size':30000} #vocab_size\n",
    "config['global']['batch_size']=32 # batch size\n",
    "config['global']['doc_length']=70 # document length\n",
    "config['global']['sent_length']=100 # sentence length\n",
    "config['sent_encoder']['CNN'] = {'num_filters':100, # number of filters\n",
    "                                 'l2_regulation':3, # l2 regulation parameter\n",
    "                                 'dropout':0.5} # dropout parameter\n",
    "config['sent_encoder']['RNN'] = {'hidden_dim':128} # hidden dimension for RNN document encoder\n",
    "config['doc_encoder']['BiLSTM'] = {'hidden_dim':512} # BiLSTM sentence encoder hidden dimension\n",
    "\n",
    "# We call Information Interactive Layer \"Score layer\" in our code.\n",
    "config['doc_decoder']['Scoring_Layer'] = {'hidden_units':100, # Scoring layer hidden units\n",
    "                                    'pos_embedding_dim':64, # position embedding dimension\n",
    "                                    'segment_nums':10, #  relative position segmentation number\n",
    "                                    'segment_len':7.0,} # relative position segementation length\n",
    "textfile_merged = open('config.json','w')\n",
    "json.dump(config, textfile_merged,indent=2)\n",
    "textfile_merged.close()"
   ]
  },
  {
   "cell_type": "markdown",
   "metadata": {
    "id": "iQD1Y3h-KAjh"
   },
   "source": [
    "**Data loader**"
   ]
  },
  {
   "cell_type": "code",
   "execution_count": 524,
   "metadata": {},
   "outputs": [],
   "source": [
    "class batch_reader:\n",
    "  def __init__(self,input_dir):\n",
    "    textfile_merged = open('config.json', 'rb')\n",
    "    configs = json.load(textfile_merged)\n",
    "    textfile_merged.close()\n",
    "    doc_length = configs['global']['doc_length']\n",
    "    BATCH_SIZE = configs['global']['batch_size']\n",
    "    sent_length = configs['global']['sent_length']\n",
    "    self.tokenizer=0 # Tokenizer, 0 if there is no tokenizer now\n",
    "    self.sample_per_file=16 # 16 articles per file\n",
    "    self.BATCH_SIZE=int(BATCH_SIZE/self.sample_per_file) # number of files per batch\n",
    "    self.dir=input_dir\n",
    "    self.l=len(os.listdir(self.dir)) # number of files\n",
    "    self.nums=int(self.l/self.BATCH_SIZE)-1 # number of batches\n",
    "    self.index=0 # current index of file\n",
    "    self.sent_length=sent_length \n",
    "    self.doc_length=doc_length\n",
    "    self.file_order=[i for i in range(self.nums)] # file order\n",
    "\n",
    "  def iter(self):\n",
    "    # Change the index to the one belonging to next batch\n",
    "    self.index=(self.index+1) % self.nums\n",
    "  def shuffle(self):\n",
    "    random.shuffle(self.file_order)\n",
    "  def return_to_normal(self):\n",
    "    self.file_order=[i for i in range(self.nums)]\n",
    "  def pad_word(self,sent):\n",
    "    # Padding the sentence to the length of max words=100\n",
    "    if len(sent)>self.sent_length:\n",
    "      sent=sent[:self.sent_length]\n",
    "    else:\n",
    "      sent += ['<pad>'] * (self.sent_length - len(sent))\n",
    "    return sent\n",
    "  def pad_sent(self,document):\n",
    "    # Padding the document to the length of max sentences=70\n",
    "    if len(document)>self.doc_length:\n",
    "      document=document[:self.doc_length]\n",
    "    else:\n",
    "      document +=[['<pad>']*self.sent_length] * (self.doc_length - len(document))\n",
    "    return document\n",
    "  def map_to_one_hot(self,labels):\n",
    "    # One hot mapping\n",
    "    list_init=[0]*self.doc_length\n",
    "    for i in labels:\n",
    "      if i<=self.doc_length-1:\n",
    "        list_init[i]=1\n",
    "    return list_init\n",
    "  def next_batch(self,output_type='words'):\n",
    "    # Files belong to the batch\n",
    "    self.f_list=[str(j+self.file_order[self.index]*self.BATCH_SIZE)+'.json' for j in range(self.BATCH_SIZE)]\n",
    "    if output_type=='words':\n",
    "      # Split sentences into words, to be directly embedded in Word2Vec\n",
    "      documents=[]\n",
    "      summary_labels=[]\n",
    "      for f in self.f_list:\n",
    "        with open(self.dir+f, \"rb\") as infile:\n",
    "          file_json=json.load(infile)\n",
    "          for index in range(self.sample_per_file):\n",
    "            json_now=file_json[str(index)]\n",
    "            splitted=[self.pad_word(sent.split()) for sent in json_now['article']]\n",
    "            documents.append(self.pad_sent(splitted))\n",
    "            summary_labels.append(self.map_to_one_hot(json_now['label']))\n",
    "    elif output_type==\"sents\":\n",
    "      # Raw sentence, might be used in BERT\n",
    "      documents=[]\n",
    "      summary_labels=[]\n",
    "      for f in self.f_list:\n",
    "        with open(self.dir+f, \"rb\") as infile:\n",
    "          file_json=json.load(infile)\n",
    "          for index in range(self.sample_per_file):\n",
    "            json_now=file_json[str(index)]\n",
    "            splitted=[sent for sent in json_now['article']]\n",
    "            documents.append(self.pad_sent(splitted))\n",
    "            summary_labels.append(self.map_to_one_hot(json_now['label']))\n",
    "    # next batch of files\n",
    "    self.iter()\n",
    "    if self.tokenizer==0: # if there is no tokenizer\n",
    "      return np.array(documents),np.array(summary_labels)\n",
    "    else: # if there is a tokenizer\n",
    "      # return tokens\n",
    "      return self.tokenizer(np.array(documents)),np.array(summary_labels)\n",
    "  def insert_tokenizer(self,tokenizer):\n",
    "    # insert a tokenizer\n",
    "    self.tokenizer=tokenizer\n",
    "  def generator(self):\n",
    "    # generator for building tensorflow dataset\n",
    "    while True:\n",
    "        yield self.next_batch()"
   ]
  },
  {
   "cell_type": "markdown",
   "metadata": {
    "id": "dzB-8eWRKIFh",
    "tags": []
   },
   "source": [
    "# Embedding layer\n",
    "Detailed in the report, we use embedding dimension 128 and vocabulary size 30000 according to our experimental tries."
   ]
  },
  {
   "cell_type": "code",
   "execution_count": 525,
   "metadata": {
    "id": "B345INGN-hdO"
   },
   "outputs": [],
   "source": [
    "class Embedding_preparation:\n",
    "  def __init__(self,path='/data/Dataset_Batch/vocab_cnt.pkl'):\n",
    "    textfile_merged = open('config.json', 'rb')\n",
    "    configs = json.load(textfile_merged)\n",
    "    textfile_merged.close()\n",
    "    embedding_dim = configs['embedding']['word2vec']['embedding_dim']\n",
    "    vocab_size = configs['embedding']['word2vec']['vocab_size']\n",
    "    self.path=os.getcwd()+path\n",
    "    self.vocab_size=vocab_size # vocabulary size\n",
    "    self.embedding_dim=embedding_dim # embedding_dimension\n",
    "    with open(self.path,'rb' ) as f:\n",
    "      # A file in the dataset, counting the appearance of words in dataset\n",
    "      self.count_dict = pkl.load(f)\n",
    "    self.PAD = 0\n",
    "    self.UNK = 1\n",
    "    self.START = 2\n",
    "    self.END = 3\n",
    "    self.word2id = self.make_vocab() # word to token vocabulary\n",
    "    # A dictionary which would output unknown token for unknown words\n",
    "    self.robust_word2id= collections.defaultdict(lambda: self.UNK, self.word2id) \n",
    "    # index to word vocabulary\n",
    "    self.id2word={id: word for word, id in self.word2id.items()}\n",
    "    # word to vector embedding from pretrained\n",
    "    self.word2vec=gensim.models.Word2Vec.load(os.getcwd()+'/data/Dataset_Batch/word2vec/word2vec.128d.226k.bin').wv\n",
    "    self.embedding_matrix=np.zeros((self.vocab_size, self.embedding_dim))\n",
    "    for word,id in self.word2id.items():\n",
    "      if id<=1: # Case for <unk> and <pad>\n",
    "        # Random embedding for these two signals\n",
    "        self.embedding_matrix[id]=np.random.rand(128)*2-1\n",
    "      elif id==2: # Case for <START>\n",
    "        self.embedding_matrix[id]=self.word2vec['<s>']\n",
    "      elif id==3: # Case for <END>\n",
    "        self.embedding_matrix[id]=self.word2vec[r'<\\s>']\n",
    "      else: # Case for other words\n",
    "        self.embedding_matrix[id]=self.word2vec[word]\n",
    "    # pre-trained embedding\n",
    "    self.embedding_layer = layers.Embedding(vocab_size,embedding_dim,\n",
    "        embeddings_initializer=keras.initializers.Constant(self.embedding_matrix),\n",
    "        trainable=False,\n",
    "    )\n",
    "    # pre-trained embedding which can be fine tuned \n",
    "    self.embedding_layer_fine_tune = layers.Embedding(vocab_size,embedding_dim,\n",
    "        embeddings_initializer=keras.initializers.Constant(self.embedding_matrix),\n",
    "        trainable=True,\n",
    "    )\n",
    "  def tokenize(self,wordlist,):\n",
    "    # tokenize a list of words\n",
    "    return [self.robust_word2id[word] for word in wordlist]\n",
    "  def make_vocab(self):\n",
    "    word2id = {}\n",
    "    word2id['<pad>'] = self.PAD\n",
    "    word2id['<unk>'] = self.UNK\n",
    "    word2id['<start>'] = self.START\n",
    "    word2id['<end>'] = self.END\n",
    "    # Find (top vocab_size-4)-th frequent words and take them into dictionary \n",
    "    for index, (word, freq) in enumerate(self.count_dict.most_common(self.vocab_size-4), self.END+1):\n",
    "        word2id[word] = index\n",
    "    return word2id"
   ]
  },
  {
   "cell_type": "markdown",
   "metadata": {
    "id": "oCSwQcJjKLx4",
    "tags": []
   },
   "source": [
    "# Sentence encoder layer\n",
    "Sentence encoder encodes the word embedding into sentence embedding. The input shape is (batch_size, doc_size, sent_size, word_embed) and the output shape is (batch_size, doc_size, sent_embed)"
   ]
  },
  {
   "cell_type": "markdown",
   "metadata": {
    "id": "Ze5kBrxUKuUV"
   },
   "source": [
    "## CNN sentence encoder"
   ]
  },
  {
   "cell_type": "code",
   "execution_count": 526,
   "metadata": {
    "id": "33EkwUQL-h3B"
   },
   "outputs": [],
   "source": [
    "class CNN_word_extract(keras.layers.Layer):\n",
    "  def __init__(self):\n",
    "    textfile_merged = open('config.json', 'rb')\n",
    "    configs = json.load(textfile_merged)\n",
    "    textfile_merged.close()\n",
    "    doc_length=configs['global']['doc_length']\n",
    "    sent_length=configs['global']['sent_length']\n",
    "    num_filters=configs['sent_encoder']['CNN']['num_filters']\n",
    "    regularizer=configs['sent_encoder']['CNN']['l2_regulation']\n",
    "    dropout_rate=configs['sent_encoder']['CNN']['dropout']\n",
    "    embedding_dim=config['embedding']['word2vec']['embedding_dim']\n",
    "    super(CNN_word_extract, self).__init__()\n",
    "    self.reshaped_shape=(doc_length,sent_length,embedding_dim, 1)\n",
    "    self.reshape_2 = layers.Reshape(self.reshaped_shape)\n",
    "    # Three CNN with different kernel size\n",
    "    self.conv_0_2 = layers.Conv2D(num_filters, kernel_size=(3, embedding_dim),\n",
    "                                  input_shape=self.reshaped_shape[1:], activation='relu',\n",
    "                                  kernel_regularizer=keras.regularizers.l2(regularizer))\n",
    "    self.conv_1_2 = layers.Conv2D(num_filters, kernel_size=(4, embedding_dim),\n",
    "                                  input_shape=self.reshaped_shape[1:], activation='relu',\n",
    "                                  kernel_regularizer=keras.regularizers.l2(regularizer))\n",
    "    self.conv_2_2 = layers.Conv2D(num_filters, kernel_size=(5, embedding_dim),\n",
    "                                  input_shape=self.reshaped_shape[1:], activation='relu',\n",
    "                                  kernel_regularizer=keras.regularizers.l2(regularizer))\n",
    "    # Maxpooling, use MaxPool3D for having a extra dimension\n",
    "    self.maxpool_0_2 = layers.MaxPool3D(pool_size=(1,sent_length-2,1), strides=(1,1,1), padding='valid')\n",
    "    self.maxpool_1_2 = layers.MaxPool3D(pool_size=(1,sent_length-3,1), strides=(1,1,1), padding='valid')\n",
    "    self.maxpool_2_2 = layers.MaxPool3D(pool_size=(1,sent_length-4,1), strides=(1,1,1), padding='valid')\n",
    "    self.concatenated_tensor_2 = layers.Concatenate(axis=2)\n",
    "    self.reshape_3 = layers.Reshape((doc_length,3*num_filters))\n",
    "    self.dropout_2 = layers.Dropout(dropout_rate)\n",
    "  def call(self,input):\n",
    "    reshaped=self.reshape_2(input)\n",
    "    conv_0 = self.conv_0_2(reshaped)\n",
    "    conv_1 = self.conv_1_2(reshaped)\n",
    "    conv_2 = self.conv_2_2(reshaped)\n",
    "    conv_0 = self.maxpool_0_2(conv_0)\n",
    "    conv_1 = self.maxpool_1_2(conv_1)\n",
    "    conv_2 = self.maxpool_2_2(conv_2)\n",
    "    x=self.concatenated_tensor_2([conv_0,conv_1,conv_2])\n",
    "    x=self.reshape_3(x)\n",
    "    x=self.dropout_2(x)\n",
    "    return x"
   ]
  },
  {
   "cell_type": "markdown",
   "metadata": {
    "id": "-xT5qRRIKydp"
   },
   "source": [
    "## RNN-based sentence encoder\n",
    "Here we use **Bidirectional GRU**"
   ]
  },
  {
   "cell_type": "code",
   "execution_count": 527,
   "metadata": {
    "id": "eXf7yu0spLse"
   },
   "outputs": [],
   "source": [
    "class RNN_word_extract(keras.layers.Layer):\n",
    "    def __init__(self):\n",
    "        super(RNN_word_extract, self).__init__()\n",
    "        textfile_merged = open('config.json', 'rb')\n",
    "        configs = json.load(textfile_merged)\n",
    "        textfile_merged.close()\n",
    "        self.hidden_dim=config['sent_encoder']['RNN']['hidden_dim']\n",
    "        # Bidirectional GRU\n",
    "        self.layer_1=tf.keras.layers.TimeDistributed(tf.keras.layers.Bidirectional(tf.keras.layers.GRU(self.hidden_dim, return_sequences=True)))\n",
    "    \n",
    "    def call(self,input):\n",
    "        x=self.layer_1(input)\n",
    "        # Average pooling over a dimension\n",
    "        return tf.reduce_mean(x, axis=2)"
   ]
  },
  {
   "cell_type": "markdown",
   "metadata": {
    "id": "K6zeT9bOK54J",
    "tags": []
   },
   "source": [
    "# Document encoder layer\n",
    "\n",
    "Document encoder encapsulates the representation within the document. The input shape is (batch_size, doc_size, sent_representation) and the output is (batch_size, doc_size, doc_representation)."
   ]
  },
  {
   "cell_type": "markdown",
   "metadata": {
    "id": "4wIAdW4kK-Lb",
    "tags": []
   },
   "source": [
    "## RNN-based document encoder\n",
    "Here we use **Bidirectional LSTM**"
   ]
  },
  {
   "cell_type": "code",
   "execution_count": 536,
   "metadata": {
    "id": "uU9jCTee-rN5"
   },
   "outputs": [],
   "source": [
    "class LSTM_sentence_encoder(keras.layers.Layer):\n",
    "  def __init__(self,Bidirection=True):\n",
    "    textfile_merged = open('config.json', 'rb')\n",
    "    configs = json.load(textfile_merged)\n",
    "    textfile_merged.close()\n",
    "    bi_hidden_dim=configs['doc_encoder']['BiLSTM']['hidden_dim']\n",
    "    super(LSTM_sentence_encoder, self).__init__()\n",
    "    # Bidirection LSTM\n",
    "    if Bidirection==True:\n",
    "      self.lstm=layers.Bidirectional(layers.LSTM(bi_hidden_dim, return_sequences=True,\n",
    "                                                  kernel_initializer='glorot_uniform'))\n",
    "  def call(self,input):\n",
    "    return self.lstm(input)"
   ]
  },
  {
   "cell_type": "markdown",
   "metadata": {
    "id": "rTbCGhtMLkal",
    "tags": []
   },
   "source": [
    "## Transformer document encoder"
   ]
  },
  {
   "cell_type": "code",
   "execution_count": 529,
   "metadata": {
    "id": "s6cXdjtGBK5V"
   },
   "outputs": [],
   "source": [
    "def get_angles(pos, i, d_model):\n",
    "  angle_rates = 1 / np.power(10000, (2 * (i//2)) / np.float32(d_model))\n",
    "  return pos * angle_rates\n",
    "\n",
    "def positional_encoding(position, d_model):\n",
    "  angle_rads = get_angles(np.arange(position)[:, np.newaxis],\n",
    "                          np.arange(d_model)[np.newaxis, :],\n",
    "                          d_model)\n",
    "\n",
    "  # apply sin to even indices in the array; 2i\n",
    "  angle_rads[:, 0::2] = np.sin(angle_rads[:, 0::2])\n",
    "\n",
    "  # apply cos to odd indices in the array; 2i+1\n",
    "  angle_rads[:, 1::2] = np.cos(angle_rads[:, 1::2])\n",
    "\n",
    "  d0 = angle_rads.shape[0]\n",
    "  d1 = angle_rads.shape[1]\n",
    "  pos_encoding = tf.broadcast_to(angle_rads, (32,d0, d1))\n",
    "\n",
    "  return tf.cast(pos_encoding, dtype=tf.float32)\n",
    "\n",
    "def get_mask(seq_k, seq_q):\n",
    "    ''' For masking out the padding part of key sequence. '''\n",
    "\n",
    "    # Expand to fit the shape of key query attention matrix.\n",
    "    seq_k = tf.reduce_sum(seq_k, axis=2)\n",
    "    seq_q = tf.reduce_sum(seq_q, axis=2)\n",
    "    len_q = seq_q.shape[1]\n",
    "    k1 = seq_k.shape[0]\n",
    "    k2 = seq_k.shape[1]\n",
    "    padding_mask = tf.cast(tf.math.equal(seq_k, 0), tf.float32)\n",
    "    padding_mask = tf.broadcast_to(padding_mask[:,np.newaxis, np.newaxis,:], (k1,4, len_q, k2))\n",
    "    return padding_mask\n",
    "\n",
    "def scaled_dot_product_attention(q, k, v, mask):\n",
    "  matmul_qk = tf.matmul(q, k, transpose_b=True)  # (..., seq_len_q, seq_len_k)\n",
    "\n",
    "  # scale matmul_qk\n",
    "  dk = tf.cast(tf.shape(k)[-1], tf.float32)\n",
    "  scaled_attention_logits = matmul_qk / tf.math.sqrt(dk)\n",
    "\n",
    "  # add the mask to the scaled tensor.\n",
    "  if mask is not None:\n",
    "    scaled_attention_logits += (mask * -1e9)\n",
    "\n",
    "  # softmax is normalized on the last axis (seq_len_k) so that the scores\n",
    "  # add up to 1.\n",
    "  attention_weights = tf.nn.softmax(scaled_attention_logits, axis=-1)  # (..., seq_len_q, seq_len_k)\n",
    "\n",
    "  output = tf.matmul(attention_weights, v)  # (..., seq_len_q, depth_v)\n",
    "\n",
    "  return output, attention_weights\n",
    "\n",
    "class MultiHeadAttention(tf.keras.layers.Layer):\n",
    "  def __init__(self,*, d_model, num_heads):\n",
    "    super(MultiHeadAttention, self).__init__()\n",
    "    self.num_heads = num_heads\n",
    "    self.d_model = d_model\n",
    "\n",
    "    assert d_model % self.num_heads == 0\n",
    "\n",
    "    self.depth = d_model // self.num_heads\n",
    "\n",
    "    self.wq = tf.keras.layers.Dense(d_model)\n",
    "    self.wk = tf.keras.layers.Dense(d_model)\n",
    "    self.wv = tf.keras.layers.Dense(d_model)\n",
    "\n",
    "    self.dense = tf.keras.layers.Dense(d_model)\n",
    "\n",
    "  def split_heads(self, x, batch_size):\n",
    "    \"\"\"Split the last dimension into (num_heads, depth).\n",
    "    Transpose the result such that the shape is (batch_size, num_heads, seq_len, depth)\n",
    "    \"\"\"\n",
    "    x = tf.reshape(x, (batch_size, -1, self.num_heads, self.depth))\n",
    "    return tf.transpose(x, perm=[0, 2, 1, 3])\n",
    "\n",
    "  def call(self, v, k, q, mask):\n",
    "    batch_size = tf.shape(q)[0]\n",
    "    mask_matrix = mask(q,k)\n",
    "\n",
    "    q = self.wq(q)  # (batch_size, seq_len, d_model)\n",
    "    k = self.wk(k)  # (batch_size, seq_len, d_model)\n",
    "    v = self.wv(v)  # (batch_size, seq_len, d_model)\n",
    "\n",
    "    q = self.split_heads(q, batch_size)  # (batch_size, num_heads, seq_len_q, depth)\n",
    "    k = self.split_heads(k, batch_size)  # (batch_size, num_heads, seq_len_k, depth)\n",
    "    v = self.split_heads(v, batch_size)  # (batch_size, num_heads, seq_len_v, depth)\n",
    "\n",
    "    # scaled_attention.shape == (batch_size, num_heads, seq_len_q, depth)\n",
    "    # attention_weights.shape == (batch_size, num_heads, seq_len_q, seq_len_k)\n",
    "    scaled_attention, attention_weights = scaled_dot_product_attention(\n",
    "        q, k, v, mask_matrix)\n",
    "\n",
    "    scaled_attention = tf.transpose(scaled_attention, perm=[0, 2, 1, 3])  # (batch_size, seq_len_q, num_heads, depth)\n",
    "\n",
    "    concat_attention = tf.reshape(scaled_attention,\n",
    "                                  (batch_size, -1, self.d_model))  # (batch_size, seq_len_q, d_model)\n",
    "\n",
    "    output = self.dense(concat_attention)  # (batch_size, seq_len_q, d_model)\n",
    "\n",
    "\n",
    "    return output, attention_weights\n",
    "\n",
    "def point_wise_feed_forward_network(d_model, dff):\n",
    "  return tf.keras.Sequential([\n",
    "      tf.keras.layers.Dense(dff, activation='relu'),  # (batch_size, seq_len, dff)\n",
    "      tf.keras.layers.Dense(d_model)  # (batch_size, seq_len, d_model)\n",
    "  ])\n",
    "\n",
    "class EncoderLayer(tf.keras.layers.Layer):\n",
    "  def __init__(self,*, d_model, num_heads, dff, rate=0.1):\n",
    "    super(EncoderLayer, self).__init__()\n",
    "\n",
    "    self.mha = MultiHeadAttention(d_model=d_model, num_heads=num_heads)\n",
    "    self.ffn = point_wise_feed_forward_network(d_model, dff)\n",
    "\n",
    "    self.layernorm1 = tf.keras.layers.LayerNormalization(epsilon=1e-6)\n",
    "    self.layernorm2 = tf.keras.layers.LayerNormalization(epsilon=1e-6)\n",
    "\n",
    "    self.dropout1 = tf.keras.layers.Dropout(rate)\n",
    "    self.dropout2 = tf.keras.layers.Dropout(rate)\n",
    "\n",
    "  def call(self, x, training, mask):\n",
    "\n",
    "    attn_output, _ = self.mha(x, x, x, mask)  # (batch_size, input_seq_len, d_model)\n",
    "    attn_output = self.dropout1(attn_output, training=training)\n",
    "    out1 = self.layernorm1(x + attn_output)  # (batch_size, input_seq_len, d_model)\n",
    "\n",
    "    ffn_output = self.ffn(out1)  # (batch_size, input_seq_len, d_model)\n",
    "    ffn_output = self.dropout2(ffn_output, training=training)\n",
    "    out2 = self.layernorm2(out1 + ffn_output)  # (batch_size, input_seq_len, d_model)\n",
    "\n",
    "    return out2"
   ]
  },
  {
   "cell_type": "code",
   "execution_count": 530,
   "metadata": {
    "id": "YvAnkiBAD9r7"
   },
   "outputs": [],
   "source": [
    "class transformer_enc(tf.keras.layers.Layer):\n",
    "  def __init__(self,*, num_layers, d_model, num_heads, dff, input_vocab_size,\n",
    "               rate=0.1):\n",
    "    super().__init__()\n",
    "\n",
    "    self.d_model = d_model\n",
    "    self.num_layers = num_layers\n",
    "\n",
    "    self.pos_encoding = positional_encoding(70, self.d_model)\n",
    "\n",
    "    self.enc_layers = [\n",
    "        EncoderLayer(d_model=d_model, num_heads=num_heads, dff=dff, rate=rate)\n",
    "        for _ in range(num_layers)]\n",
    "\n",
    "    self.dropout = tf.keras.layers.Dropout(rate)\n",
    "\n",
    "  def call(self, x, training, mask=None):\n",
    "\n",
    "    seq_len = tf.shape(x)[1]\n",
    "\n",
    "    x *= tf.math.sqrt(tf.cast(self.d_model, tf.float32))\n",
    "    x += self.pos_encoding[:, :seq_len, :]\n",
    "\n",
    "    x = self.dropout(x, training=training)\n",
    "\n",
    "    for i in range(self.num_layers):\n",
    "      x = self.enc_layers[i](x, training, mask)\n",
    "\n",
    "    return x "
   ]
  },
  {
   "cell_type": "markdown",
   "metadata": {
    "id": "9mnisVe_LC4C",
    "tags": []
   },
   "source": [
    "# Document decoder layer\n",
    "\n",
    "This layer decodes the input from document encoder.  The input shape is (batch_size, doc_size, doc_representation) and the output is (batch_size, doc_size). This should output a probability for each sentence."
   ]
  },
  {
   "cell_type": "markdown",
   "metadata": {
    "id": "5pweapKNLL36",
    "tags": []
   },
   "source": [
    "## Information interactive decoder"
   ]
  },
  {
   "cell_type": "code",
   "execution_count": 531,
   "metadata": {
    "id": "tJ-W99gi4ndH"
   },
   "outputs": [],
   "source": [
    "class IID_Layer(keras.layers.Layer):\n",
    "  def __init__(self):\n",
    "    super(IID_Layer, self).__init__()\n",
    "    textfile_merged = open('config.json', 'rb')\n",
    "    configs = json.load(textfile_merged)\n",
    "    textfile_merged.close()\n",
    "    self.units = config['doc_decoder']['Scoring_Layer']['hidden_units'] \n",
    "    self.batch_size = config['global']['batch_size']\n",
    "    self.pos_embed_dim = config['doc_decoder']['Scoring_Layer']['pos_embedding_dim'] \n",
    "    self.doc_len = configs['global']['doc_length']\n",
    "    self.segment_nums = config['doc_decoder']['Scoring_Layer']['segment_nums'] \n",
    "    self.segment_len = config['doc_decoder']['Scoring_Layer']['segment_len']    # dtype=float32\n",
    "    # Position embedding\n",
    "    self.abs_pos_embed = tf.keras.layers.Embedding(self.doc_len, self.pos_embed_dim, name=\"Abs_Pos_Embed\")\n",
    "    self.rel_pos_embed = tf.keras.layers.Embedding(self.segment_nums, self.pos_embed_dim, name=\"Rel_Pos_Embed\")\n",
    "    # Dense Layer\n",
    "    self.dense_1 = tf.keras.layers.Dense(self.units, activation='tanh')\n",
    "    self.dense_2 = tf.keras.layers.Dense(self.units, activation='relu')\n",
    "    # Clarify Variables\n",
    "    self.Wc = self.add_weight(shape=(self.units, 1), initializer=\"random_normal\", trainable=True,name='Wc')\n",
    "    self.Ws = self.add_weight(shape=(self.units, self.units), initializer=\"random_normal\", trainable=True,name='Ws')\n",
    "    self.Wr = self.add_weight(shape=(self.units, self.units), initializer=\"random_normal\", trainable=True,name='Wr')\n",
    "    self.Wap = self.add_weight(shape=(self.pos_embed_dim, 1), initializer=\"random_normal\", trainable=True,name='Wap')\n",
    "    self.Wrp = self.add_weight(shape=(self.pos_embed_dim, 1), initializer=\"random_normal\", trainable=True,name='Wrp')\n",
    "    self.bias = self.add_weight(shape=(self.batch_size, 1), initializer=\"random_normal\", trainable=True,name='bias')\n",
    "\n",
    "  def call(self, inputs):\n",
    "    # Average pooling\n",
    "    self.avg_pool = tf.reduce_mean(inputs, axis=1)  #(batch_size,400)\n",
    "    # Dense Layer(Non-linear transformation)\n",
    "    self.d = self.dense_1(self.avg_pool)  #(batch_size, 100)\n",
    "    # Score layer\n",
    "    self.valid_hiddens = tf.keras.layers.TimeDistributed(self.dense_2)(inputs) #(batch_size, 70, 100)\n",
    "    for position, sent_hidden in enumerate(tf.unstack(self.valid_hiddens, axis = 1)):\n",
    "      # Content, Salience, Novelty\n",
    "      content = tf.matmul(sent_hidden, self.Wc)  #(batch_size, 1)\n",
    "      salience = tf.math.reduce_sum(tf.math.multiply(tf.matmul(sent_hidden, self.Ws), self.d), axis=1)\n",
    "      salience = tf.reshape(salience, (-1, 1))  #(batch_size, 1)\n",
    "      if position == 0:\n",
    "        novelty = tf.zeros([self.batch_size, 1])  #(batch_size, 1)\n",
    "      else:\n",
    "        novelty = -1 * tf.math.reduce_sum(tf.math.multiply(tf.matmul(sent_hidden, self.Wr), tf.math.tanh(self.s)), axis=1)\n",
    "        novelty = tf.reshape(novelty, (-1, 1))  #(batch_size, 1)\n",
    "      # abs_pos, rel_pos\n",
    "      batch_layer = tf.ones([self.batch_size, self.pos_embed_dim])   #(batch_size, pos_embed_dim)\n",
    "      abs_features = tf.math.multiply(batch_layer, self.abs_pos_embed(tf.constant([position])))  #(batch_size, pos_embed_dim)\n",
    "      rel_index = int(round((position + 1) * self.segment_len / self.doc_len))\n",
    "      rel_features = tf.math.multiply(batch_layer, self.rel_pos_embed(tf.constant([rel_index])))  #(batch_size, pos_embed_dim)\n",
    "      abs_pos = tf.matmul(abs_features, self.Wap)  #(batch_size, 1)\n",
    "      rel_pos = tf.matmul(rel_features, self.Wrp)  #(batch_size, 1)\n",
    "      Prob = tf.math.sigmoid(content + salience + novelty + abs_pos + rel_pos + self.bias)  #(batch_size, 1)\n",
    "      if position == 0:\n",
    "        self.s = tf.math.multiply(sent_hidden, Prob)\n",
    "        self.Probs = Prob\n",
    "      else:\n",
    "        self.s += tf.math.multiply(sent_hidden, Prob)\n",
    "        self.Probs = tf.concat([self.Probs, Prob], axis=1)  #(batch_size, 70)\n",
    "    return self.Probs"
   ]
  },
  {
   "cell_type": "markdown",
   "metadata": {
    "id": "80_xMgQGLQZg",
    "tags": []
   },
   "source": [
    "## Tabular linear decoder"
   ]
  },
  {
   "cell_type": "code",
   "execution_count": 532,
   "metadata": {
    "id": "nbBOhN56NG4s"
   },
   "outputs": [],
   "source": [
    "class RawMLP_decoder(keras.layers.Layer):\n",
    "  def __init__(self):\n",
    "    super(RawMLP_decoder, self).__init__()\n",
    "    self.mlp=layers.Dense(1,activation='sigmoid')\n",
    "  def call(self,input):\n",
    "    return self.mlp(input)[:,:,0]"
   ]
  },
  {
   "cell_type": "markdown",
   "metadata": {
    "id": "mMrHXkqwLV_Z",
    "tags": []
   },
   "source": [
    "# Implementation"
   ]
  },
  {
   "cell_type": "markdown",
   "metadata": {
    "tags": []
   },
   "source": [
    "## Utilisation functions and classes"
   ]
  },
  {
   "cell_type": "code",
   "execution_count": 537,
   "metadata": {},
   "outputs": [],
   "source": [
    "textfile_merged = open(os.getcwd()+'/config.json', 'rb')\n",
    "configs = json.load(textfile_merged)\n",
    "embedding_dim=configs['embedding']['word2vec']['embedding_dim']\n",
    "batch_size=configs['global']['batch_size']\n",
    "doc_length=configs['global']['doc_length']\n",
    "sent_length=configs['global']['sent_length']\n",
    "train_dir=os.getcwd() + '/data/Dataset_Batch/train/'\n",
    "Embedding=Embedding_preparation()\n",
    "batch_iter = batch_reader(train_dir)\n",
    "batch_iter.insert_tokenizer(np.vectorize(lambda e: Embedding.robust_word2id[e]))\n",
    "dataset=tf.data.Dataset.from_generator(\n",
    "    batch_iter.generator, output_types=(tf.int32, tf.int32), output_shapes=((batch_size,doc_length,sent_length),(batch_size,doc_length)))\n",
    "val_dir=os.getcwd() + '/data/Dataset_Batch/val/'\n",
    "val_batch_iter = batch_reader(val_dir)\n",
    "val_batch_iter.insert_tokenizer(np.vectorize(lambda e: Embedding.robust_word2id[e]))\n",
    "val_dataset=tf.data.Dataset.from_generator(\n",
    "    val_batch_iter.generator, output_types=(tf.int32, tf.int32), output_shapes=((batch_size,doc_length,sent_length),(batch_size,doc_length)))\n",
    "# Tokenized document\n",
    "\n",
    "def dispatch(func_name_dict,name, *args, **kwargs):\n",
    "  return func_name_dict[name](*args, **kwargs)\n",
    "\n",
    "def build_model(emb,sent_enc,doc_enc,dec):\n",
    "  embedding_dict={'word2vec':Embedding.embedding_layer,\n",
    "                  'word2vec_fine_tune':Embedding.embedding_layer_fine_tune}\n",
    "  sent_encoder_dict={'CNN':CNN_word_extract(),\n",
    "                  'RNN':RNN_word_extract()}\n",
    "  doc_encoder_dict={'BiLSTM':LSTM_sentence_encoder(Bidirection=True),\n",
    "                  \"transformer\": transformer_enc(num_layers=4, d_model=256, num_heads=4,\n",
    "                         dff=1024, input_vocab_size=30000)}\n",
    "  decoder_dict={'RawMLP':RawMLP_decoder(),\n",
    "                'IID_Layer':IID_Layer()}\n",
    "  inputs=keras.Input(batch_shape=(batch_size,doc_length,sent_length),name='Input')\n",
    "  embedded=dispatch(embedding_dict,emb,inputs)\n",
    "  word_2_sent=dispatch(sent_encoder_dict,sent_enc,embedded)\n",
    "  if doc_enc == \"transformer\":\n",
    "    doc_encoder=dispatch(doc_encoder_dict,doc_enc,word_2_sent, True, get_mask)\n",
    "  else:\n",
    "    doc_encoder=dispatch(doc_encoder_dict,doc_enc,word_2_sent)\n",
    "  doc_decoder=dispatch(decoder_dict,dec,doc_encoder)\n",
    "  output=doc_decoder\n",
    "  return keras.Model(inputs=inputs, outputs=output)"
   ]
  },
  {
   "cell_type": "code",
   "execution_count": null,
   "metadata": {},
   "outputs": [],
   "source": []
  },
  {
   "cell_type": "code",
   "execution_count": 726,
   "metadata": {},
   "outputs": [],
   "source": [
    "def read_model(emb, se, de, dc):\n",
    "    model = build_model(emb, se, de, dc)\n",
    "    filepath = os.getcwd()+'/'+emb+'_'+se+'_'+de+'_'+dc+'/'\n",
    "    f = open(filepath+'loss.json')\n",
    "    loss = json.load(f)\n",
    "    best_epoch = np.argmin(np.array(loss[\"val_loss\"]))+1\n",
    "    best_epoch = '0'+str(best_epoch) if best_epoch<10 else str(best_epoch)\n",
    "    model.load_weights(filepath+'model_1-'+best_epoch)\n",
    "    return model\n",
    "\n",
    "class Util(object):\n",
    "    def __init__(self, model, lead=False):\n",
    "        self.model = model\n",
    "        self.lead = lead\n",
    "    \n",
    "    def computing_summaries(self, pred_vector):\n",
    "        generated_summaries=[]\n",
    "        true_summaries=[]\n",
    "        for i,f in enumerate(self.batch_iter.f_list):\n",
    "            with open(self.batch_iter.dir+f, \"rb\") as infile:\n",
    "                file_json=json.load(infile)\n",
    "                for index in range(self.batch_iter.sample_per_file):\n",
    "                    json_now=file_json[str(index)]\n",
    "                    generated_summaries.append(\" \".join([sent if pred_vector[i*self.batch_iter.sample_per_file+index][min(j,config['global']['doc_length']-1)]==1 else '' for j,sent in enumerate(json_now['article'])]))\n",
    "                    true_summaries.append(\" \".join(json_now['abstract']))\n",
    "        return generated_summaries,true_summaries\n",
    "    \n",
    "    def rouge_onebatch(self, N_gram, metric, generated_summaries,true_summaries):\n",
    "        rouge = Rouge()\n",
    "        l=len(generated_summaries)\n",
    "        avg=0.\n",
    "        for i in range(l):\n",
    "            if len(generated_summaries[i])==0: #to prevent empty hypothesis\n",
    "                score = 0\n",
    "            else:\n",
    "                score = rouge.get_scores(generated_summaries[i],true_summaries[i])[0][N_gram][metric]\n",
    "            avg += score\n",
    "        avg = avg / l\n",
    "        return avg\n",
    "    \n",
    "    def rouge_overall(self, batch_iter, N_gram, metric, threshold):\n",
    "        self.batch_iter = batch_iter\n",
    "        self.batch_iter.insert_tokenizer(np.vectorize(lambda e: prep.robust_word2id[e]))\n",
    "        i=0\n",
    "        rouge_all=[]\n",
    "        while i<self.batch_iter.nums:\n",
    "            doc,label=self.batch_iter.next_batch()\n",
    "            if self.lead:\n",
    "                vec = np.array([[1 if i<3 else 0 for i in range(70)] for i in range(config['global']['batch_size'])])\n",
    "            else:\n",
    "                vec = np.vectorize(lambda x: 1 if x >= threshold else 0)(self.model.predict(doc))\n",
    "                \n",
    "            generated_summaries,true_summaries=self.computing_summaries(vec)\n",
    "            rouge_all.append(self.rouge_onebatch(N_gram, metric,generated_summaries,true_summaries))\n",
    "            i+=1\n",
    "        return np.mean(rouge_all)\n",
    "    \n",
    "    def roc_curve(self, batch_iter):\n",
    "        batch_iter.insert_tokenizer(np.vectorize(lambda e: prep.robust_word2id[e]))\n",
    "        i=0\n",
    "        label_total = []\n",
    "        pred_total = []\n",
    "        while i<batch_iter.nums:\n",
    "            doc,label=batch_iter.next_batch()\n",
    "            pred = self.model.predict(doc)\n",
    "            \n",
    "            ind_sent = np.sum(doc, axis=2)!=0 #the index of non-trivial sentences.\n",
    "            label_total += list(label[ind_sent])\n",
    "            pred_total += list(pred[ind_sent])\n",
    "            \n",
    "            i+=1\n",
    "        label_new = np.array(label_total)\n",
    "        pred_new = np.array(pred_total)\n",
    "        fpr, tpr,_ = metrics.roc_curve(label_new, pred_new, pos_label=1)\n",
    "        auc = metrics.roc_auc_score(label_new, pred_new)\n",
    "        return fpr, tpr, auc"
   ]
  },
  {
   "cell_type": "markdown",
   "metadata": {
    "tags": []
   },
   "source": [
    "## Model building and training\n",
    "**IID** means Information Interactive Decoder"
   ]
  },
  {
   "cell_type": "markdown",
   "metadata": {},
   "source": [
    "**word2vec_CNN_BiLSTM_MLP**"
   ]
  },
  {
   "cell_type": "markdown",
   "metadata": {},
   "source": [
    "'word2vec','CNN',\"BiLSTM\",'RawMLP' Around 30 min per epoch"
   ]
  },
  {
   "cell_type": "code",
   "execution_count": 24,
   "metadata": {
    "colab": {
     "base_uri": "https://localhost:8080/",
     "height": 395
    },
    "id": "Brey1Di7CcOB",
    "outputId": "58143f18-3c93-4d88-fac3-9b4ef32ceac9"
   },
   "outputs": [
    {
     "name": "stdout",
     "output_type": "stream",
     "text": [
      "Epoch 1/10\n",
      "8974/8975 [============================>.] - ETA: 0s - loss: 0.1884- ETA: 3s -\n",
      "Epoch 00001: saving model to /home/featurize/word2vec_CNN_BiLSTM_RawMLP/model_1-01\n",
      "8975/8975 [==============================] - 2115s 235ms/step - loss: 0.1884 - val_loss: 0.1269\n",
      "Epoch 2/10\n",
      "8974/8975 [============================>.] - ETA: 0s - loss: 0.1229\n",
      "Epoch 00002: saving model to /home/featurize/word2vec_CNN_BiLSTM_RawMLP/model_1-02\n",
      "8975/8975 [==============================] - 2152s 240ms/step - loss: 0.1229 - val_loss: 0.1265\n",
      "Epoch 3/10\n",
      "8974/8975 [============================>.] - ETA: 0s - loss: 0.1226\n",
      "Epoch 00003: saving model to /home/featurize/word2vec_CNN_BiLSTM_RawMLP/model_1-03\n",
      "8975/8975 [==============================] - 2122s 236ms/step - loss: 0.1226 - val_loss: 0.1262\n",
      "Epoch 4/10\n",
      "8974/8975 [============================>.] - ETA: 0s - loss: 0.1218\n",
      "Epoch 00004: saving model to /home/featurize/word2vec_CNN_BiLSTM_RawMLP/model_1-04\n",
      "8975/8975 [==============================] - 2206s 246ms/step - loss: 0.1218 - val_loss: 0.1260\n",
      "Epoch 5/10\n",
      "8974/8975 [============================>.] - ETA: 0s - loss: 0.1222\n",
      "Epoch 00005: saving model to /home/featurize/word2vec_CNN_BiLSTM_RawMLP/model_1-05\n",
      "8975/8975 [==============================] - 2148s 239ms/step - loss: 0.1222 - val_loss: 0.1262\n",
      "Epoch 6/10\n",
      "8974/8975 [============================>.] - ETA: 0s - loss: 0.1219\n",
      "Epoch 00006: saving model to /home/featurize/word2vec_CNN_BiLSTM_RawMLP/model_1-06\n",
      "8975/8975 [==============================] - 2106s 235ms/step - loss: 0.1219 - val_loss: 0.1261\n",
      "Epoch 7/10\n",
      "8974/8975 [============================>.] - ETA: 0s - loss: 0.1227\n",
      "Epoch 00007: saving model to /home/featurize/word2vec_CNN_BiLSTM_RawMLP/model_1-07\n",
      "8975/8975 [==============================] - 2131s 237ms/step - loss: 0.1227 - val_loss: 0.1272\n",
      "Epoch 8/10\n",
      "8974/8975 [============================>.] - ETA: 0s - loss: 0.1220\n",
      "Epoch 00008: saving model to /home/featurize/word2vec_CNN_BiLSTM_RawMLP/model_1-08\n",
      "8975/8975 [==============================] - 2146s 239ms/step - loss: 0.1220 - val_loss: 0.1266\n",
      "Epoch 9/10\n",
      "8974/8975 [============================>.] - ETA: 0s - loss: 0.1219\n",
      "Epoch 00009: saving model to /home/featurize/word2vec_CNN_BiLSTM_RawMLP/model_1-09\n",
      "8975/8975 [==============================] - 2129s 237ms/step - loss: 0.1219 - val_loss: 0.1277\n",
      "Epoch 10/10\n",
      "8974/8975 [============================>.] - ETA: 0s - loss: 0.1223\n",
      "Epoch 00010: saving model to /home/featurize/word2vec_CNN_BiLSTM_RawMLP/model_1-10\n",
      "8975/8975 [==============================] - 2150s 240ms/step - loss: 0.1223 - val_loss: 0.1266\n"
     ]
    }
   ],
   "source": [
    "# CNN one\n",
    "checkpoint_filepath = os.getcwd()+'/word2vec_CNN_BiLSTM_RawMLP/model_1-{epoch:02d}'\n",
    "model_checkpoint_callback = tf.keras.callbacks.ModelCheckpoint(\n",
    "    filepath=checkpoint_filepath,\n",
    "    save_weights_only=True,\n",
    "    save_freq=batch_iter.nums,verbose=1)\n",
    "model= build_model('word2vec','CNN',\"BiLSTM\",'RawMLP')\n",
    "model.compile(loss='binary_crossentropy', optimizer=tf.keras.optimizers.Adam(learning_rate=0.0001))\n",
    "model.fit(dataset,steps_per_epoch=batch_iter.nums,epochs=10,batch_size=1,validation_data=val_dataset,validation_steps=val_batch_iter.nums,callbacks=[model_checkpoint_callback])\n",
    "textfile_merged = open(os.getcwd()+'/word2vec_CNN_BiLSTM_RawMLP/loss.json','w')\n",
    "json.dump(model.history.history, textfile_merged,indent=2)\n",
    "textfile_merged.close()"
   ]
  },
  {
   "cell_type": "markdown",
   "metadata": {},
   "source": [
    "**word2vec_BiGRU_BiLSTM_MLP**"
   ]
  },
  {
   "cell_type": "code",
   "execution_count": 25,
   "metadata": {},
   "outputs": [],
   "source": [
    "# w2v rnn rnn mlp\n",
    "checkpoint_filepath = os.getcwd()+'/word2vec_RNN_BiLSTM_RawMLP/model_1-{epoch:02d}'\n",
    "model_checkpoint_callback = tf.keras.callbacks.ModelCheckpoint(\n",
    "    filepath=checkpoint_filepath,\n",
    "    save_weights_only=True,\n",
    "    save_freq=batch_iter.nums,verbose=1)\n",
    "model= build_model('word2vec','RNN',\"BiLSTM\",'RawMLP')\n"
   ]
  },
  {
   "cell_type": "code",
   "execution_count": 26,
   "metadata": {},
   "outputs": [
    {
     "name": "stdout",
     "output_type": "stream",
     "text": [
      "Model: \"model_5\"\n",
      "_________________________________________________________________\n",
      " Layer (type)                Output Shape              Param #   \n",
      "=================================================================\n",
      " Input (InputLayer)          [(32, 70, 100)]           0         \n",
      "                                                                 \n",
      " embedding_1 (Embedding)     (32, 70, 100, 128)        3840000   \n",
      "                                                                 \n",
      " rnn_word_extract_5 (RNN_wor  (32, 70, 256)            198144    \n",
      " d_extract)                                                      \n",
      "                                                                 \n",
      " lstm_sentence_encoder_10 (L  (32, 70, 1024)           3149824   \n",
      " STM_sentence_encoder)                                           \n",
      "                                                                 \n",
      " raw_mlp_decoder_5 (RawMLP_d  (32, 70)                 1025      \n",
      " ecoder)                                                         \n",
      "                                                                 \n",
      "=================================================================\n",
      "Total params: 7,188,993\n",
      "Trainable params: 3,348,993\n",
      "Non-trainable params: 3,840,000\n",
      "_________________________________________________________________\n"
     ]
    }
   ],
   "source": [
    "model.summary()"
   ]
  },
  {
   "cell_type": "code",
   "execution_count": null,
   "metadata": {
    "colab": {
     "base_uri": "https://localhost:8080/"
    },
    "id": "zsR3SY0wDtM4",
    "outputId": "ed1dbc0f-4b80-4973-888a-59337d6ead9c"
   },
   "outputs": [
    {
     "name": "stdout",
     "output_type": "stream",
     "text": [
      "Epoch 1/20\n",
      "8974/8975 [============================>.] - ETA: 0s - loss: 0.1156\n",
      "Epoch 00001: saving model to /home/featurize/word2vec_RNN_RNN_RawMLP/model_1-01\n",
      "8975/8975 [==============================] - 2192s 244ms/step - loss: 0.1156 - val_loss: 0.1175\n",
      "Epoch 2/20\n",
      "8974/8975 [============================>.] - ETA: 0s - loss: 0.1123\n",
      "Epoch 00002: saving model to /home/featurize/word2vec_RNN_RNN_RawMLP/model_1-02\n",
      "8975/8975 [==============================] - 2183s 243ms/step - loss: 0.1123 - val_loss: 0.1163\n",
      "Epoch 3/20\n",
      "8974/8975 [============================>.] - ETA: 0s - loss: 0.1114\n",
      "Epoch 00003: saving model to /home/featurize/word2vec_RNN_RNN_RawMLP/model_1-03\n",
      "8975/8975 [==============================] - 2164s 241ms/step - loss: 0.1114 - val_loss: 0.1157\n",
      "Epoch 4/20\n",
      "5534/8975 [=================>............] - ETA: 12:46 - loss: 0.1055"
     ]
    }
   ],
   "source": [
    "model.compile(loss='binary_crossentropy', optimizer=tf.keras.optimizers.Adam(learning_rate=0.0001))\n",
    "model.fit(dataset,steps_per_epoch=batch_iter.nums,epochs=20,batch_size=1,validation_data=val_dataset,validation_steps=val_batch_iter.nums,callbacks=[model_checkpoint_callback])\n",
    "textfile_merged = open(os.getcwd()+'/word2vec_RNN_BiLSTM_RawMLP/loss.json','w')\n",
    "json.dump(model.history.history, textfile_merged,indent=2)\n",
    "textfile_merged.close()"
   ]
  },
  {
   "cell_type": "code",
   "execution_count": null,
   "metadata": {},
   "outputs": [],
   "source": []
  },
  {
   "cell_type": "markdown",
   "metadata": {},
   "source": [
    "**word2vec_BiGRU_BiLSTM_IID**"
   ]
  },
  {
   "cell_type": "code",
   "execution_count": 36,
   "metadata": {},
   "outputs": [],
   "source": [
    "# w2v rnn rnn score\n",
    "checkpoint_filepath = os.getcwd()+'/word2vec_RNN_BiLSTM_IID_Layer/model_1-{epoch:02d}'\n",
    "model_checkpoint_callback = tf.keras.callbacks.ModelCheckpoint(\n",
    "    filepath=checkpoint_filepath,\n",
    "    save_weights_only=True,\n",
    "    save_freq=batch_iter.nums,verbose=1)\n",
    "model= build_model('word2vec','RNN',\"BiLSTM\",'IID_Layer')\n"
   ]
  },
  {
   "cell_type": "code",
   "execution_count": 37,
   "metadata": {},
   "outputs": [
    {
     "name": "stdout",
     "output_type": "stream",
     "text": [
      "Model: \"model_8\"\n",
      "_________________________________________________________________\n",
      " Layer (type)                Output Shape              Param #   \n",
      "=================================================================\n",
      " Input (InputLayer)          [(32, 70, 100)]           0         \n",
      "                                                                 \n",
      " embedding_1 (Embedding)     (32, 70, 100, 128)        3840000   \n",
      "                                                                 \n",
      " rnn_word_extract_8 (RNN_wor  (32, 70, 256)            198144    \n",
      " d_extract)                                                      \n",
      "                                                                 \n",
      " lstm_sentence_encoder_16 (L  (32, 70, 1024)           3149824   \n",
      " STM_sentence_encoder)                                           \n",
      "                                                                 \n",
      " score__layer_8 (Score_Layer  (32, 70)                 230380    \n",
      " )                                                               \n",
      "                                                                 \n",
      "=================================================================\n",
      "Total params: 7,418,348\n",
      "Trainable params: 3,578,348\n",
      "Non-trainable params: 3,840,000\n",
      "_________________________________________________________________\n"
     ]
    }
   ],
   "source": [
    "model.summary()"
   ]
  },
  {
   "cell_type": "code",
   "execution_count": null,
   "metadata": {},
   "outputs": [
    {
     "name": "stdout",
     "output_type": "stream",
     "text": [
      "Epoch 1/20\n",
      "8974/8975 [============================>.] - ETA: 0s - loss: 0.1144\n",
      "Epoch 00001: saving model to /home/featurize/word2vec_RNN_RNN_Scoring_Layer/model_1-01\n",
      "8975/8975 [==============================] - 2129s 235ms/step - loss: 0.1144 - val_loss: 0.1177\n",
      "Epoch 2/20\n",
      "8974/8975 [============================>.] - ETA: 0s - loss: 0.1120\n",
      "Epoch 00002: saving model to /home/featurize/word2vec_RNN_RNN_Scoring_Layer/model_1-02\n",
      "8975/8975 [==============================] - 2083s 232ms/step - loss: 0.1120 - val_loss: 0.1165\n",
      "Epoch 3/20\n",
      "8974/8975 [============================>.] - ETA: 0s - loss: 0.1111\n",
      "Epoch 00003: saving model to /home/featurize/word2vec_RNN_RNN_Scoring_Layer/model_1-03\n",
      "8975/8975 [==============================] - 2054s 229ms/step - loss: 0.1111 - val_loss: 0.1158\n",
      "Epoch 4/20\n",
      "8974/8975 [============================>.] - ETA: 0s - loss: 0.1105\n",
      "Epoch 00004: saving model to /home/featurize/word2vec_RNN_RNN_Scoring_Layer/model_1-04\n",
      "8975/8975 [==============================] - 2065s 230ms/step - loss: 0.1105 - val_loss: 0.1155\n",
      "Epoch 5/20\n",
      "8974/8975 [============================>.] - ETA: 0s - loss: 0.1100\n",
      "Epoch 00005: saving model to /home/featurize/word2vec_RNN_RNN_Scoring_Layer/model_1-05\n",
      "8975/8975 [==============================] - 2053s 229ms/step - loss: 0.1100 - val_loss: 0.1151\n",
      "Epoch 6/20\n",
      "4839/8975 [===============>..............] - ETA: 15:16 - loss: 0.1022"
     ]
    }
   ],
   "source": [
    "model.compile(loss='binary_crossentropy', optimizer=tf.keras.optimizers.Adam(learning_rate=0.0001))\n",
    "model.fit(dataset,steps_per_epoch=batch_iter.nums,epochs=20,batch_size=1,validation_data=val_dataset,validation_steps=val_batch_iter.nums,callbacks=[model_checkpoint_callback])\n",
    "textfile_merged = open(os.getcwd()+'/word2vec_RNN_BiLSTM_IID_Layer/loss.json','w')\n",
    "json.dump(model.history.history, textfile_merged,indent=2)\n",
    "textfile_merged.close()"
   ]
  },
  {
   "cell_type": "markdown",
   "metadata": {},
   "source": [
    "**word2vec_CNN_BiLSTM_IID**"
   ]
  },
  {
   "cell_type": "code",
   "execution_count": null,
   "metadata": {},
   "outputs": [],
   "source": [
    "# w2v cnn rnn score\n",
    "checkpoint_filepath = os.getcwd()+'/word2vec_CNN_BiLSTM_IID_Layer/model_1-{epoch:02d}'\n",
    "model_checkpoint_callback = tf.keras.callbacks.ModelCheckpoint(\n",
    "    filepath=checkpoint_filepath,\n",
    "    save_weights_only=True,\n",
    "    save_freq=batch_iter.nums,verbose=1)\n",
    "model= build_model('word2vec','CNN',\"BiLSTM\",'IID_Layer')\n"
   ]
  },
  {
   "cell_type": "code",
   "execution_count": null,
   "metadata": {},
   "outputs": [],
   "source": [
    "model.summary()"
   ]
  },
  {
   "cell_type": "code",
   "execution_count": null,
   "metadata": {},
   "outputs": [],
   "source": [
    "model.compile(loss='binary_crossentropy', optimizer=tf.keras.optimizers.Adam(learning_rate=0.0001))\n",
    "model.fit(dataset,steps_per_epoch=batch_iter.nums,epochs=20,batch_size=1,validation_data=val_dataset,validation_steps=val_batch_iter.nums,callbacks=[model_checkpoint_callback])\n",
    "textfile_merged = open(os.getcwd()+'/word2vec_CNN_BiLSTM_IID_Layer/loss.json','w')\n",
    "json.dump(model.history.history, textfile_merged,indent=2)\n",
    "textfile_merged.close()"
   ]
  },
  {
   "cell_type": "markdown",
   "metadata": {},
   "source": [
    "**word2vec_BiGRU_Transformer_IID**"
   ]
  },
  {
   "cell_type": "code",
   "execution_count": 49,
   "metadata": {},
   "outputs": [],
   "source": [
    "checkpoint_filepath = os.getcwd()+'/word2vec_RNN_transformer_Scoring_Layer/model_1-{epoch:02d}'\n",
    "model_checkpoint_callback = tf.keras.callbacks.ModelCheckpoint(\n",
    "    filepath=checkpoint_filepath,\n",
    "    save_weights_only=True,\n",
    "    save_freq=batch_iter.nums,verbose=1)\n",
    "model= build_model('word2vec','RNN',\"transformer\",'IID_Layer')"
   ]
  },
  {
   "cell_type": "code",
   "execution_count": 50,
   "metadata": {},
   "outputs": [
    {
     "name": "stdout",
     "output_type": "stream",
     "text": [
      "Model: \"model_10\"\n",
      "_________________________________________________________________\n",
      " Layer (type)                Output Shape              Param #   \n",
      "=================================================================\n",
      " Input (InputLayer)          [(32, 70, 100)]           0         \n",
      "                                                                 \n",
      " embedding_3 (Embedding)     (32, 70, 100, 128)        3840000   \n",
      "                                                                 \n",
      " rnn_word_extract_13 (RNN_wo  (32, 70, 256)            198144    \n",
      " rd_extract)                                                     \n",
      "                                                                 \n",
      " transformer_enc_13 (transfo  (32, 70, 256)            3159040   \n",
      " rmer_enc)                                                       \n",
      "                                                                 \n",
      " score__layer_12 (Score_Laye  (32, 70)                 76780     \n",
      " r)                                                              \n",
      "                                                                 \n",
      "=================================================================\n",
      "Total params: 7,273,964\n",
      "Trainable params: 3,433,964\n",
      "Non-trainable params: 3,840,000\n",
      "_________________________________________________________________\n"
     ]
    }
   ],
   "source": [
    "model.summary()"
   ]
  },
  {
   "cell_type": "code",
   "execution_count": null,
   "metadata": {},
   "outputs": [
    {
     "name": "stdout",
     "output_type": "stream",
     "text": [
      "Epoch 1/20\n",
      "5203/8975 [================>.............] - ETA: 15:23 - loss: 0.1132"
     ]
    }
   ],
   "source": [
    "model.compile(loss='binary_crossentropy', optimizer=tf.keras.optimizers.Adam(learning_rate=0.0001))\n",
    "model.fit(dataset,steps_per_epoch=batch_iter.nums,epochs=20,batch_size=1,validation_data=val_dataset,validation_steps=val_batch_iter.nums,callbacks=[model_checkpoint_callback])\n",
    "textfile_merged = open(os.getcwd()+'/word2vec_RNN_transformer_IID_Layer/loss.json','w')\n",
    "json.dump(model.history.history, textfile_merged,indent=2)\n",
    "textfile_merged.close()"
   ]
  },
  {
   "cell_type": "markdown",
   "metadata": {},
   "source": [
    "**fine-tune word2vec_BiGRU_Transformer_IID**"
   ]
  },
  {
   "cell_type": "code",
   "execution_count": 74,
   "metadata": {},
   "outputs": [
    {
     "name": "stdout",
     "output_type": "stream",
     "text": [
      "Model: \"model_15\"\n",
      "_________________________________________________________________\n",
      " Layer (type)                Output Shape              Param #   \n",
      "=================================================================\n",
      " Input (InputLayer)          [(32, 70, 100)]           0         \n",
      "                                                                 \n",
      " embedding_6 (Embedding)     (32, 70, 100, 128)        3840000   \n",
      "                                                                 \n",
      " rnn_word_extract_21 (RNN_wo  (32, 70, 256)            198144    \n",
      " rd_extract)                                                     \n",
      "                                                                 \n",
      " transformer_enc_21 (transfo  (32, 70, 256)            3159040   \n",
      " rmer_enc)                                                       \n",
      "                                                                 \n",
      " score__layer_20 (Score_Laye  (32, 70)                 76780     \n",
      " r)                                                              \n",
      "                                                                 \n",
      "=================================================================\n",
      "Total params: 7,273,964\n",
      "Trainable params: 7,273,964\n",
      "Non-trainable params: 0\n",
      "_________________________________________________________________\n"
     ]
    }
   ],
   "source": [
    "checkpoint_filepath = os.getcwd()+'/word2vec_fine_tune_RNN_transformer_IID_Layer/model_1-{epoch:02d}'\n",
    "model_checkpoint_callback = tf.keras.callbacks.ModelCheckpoint(\n",
    "    filepath=checkpoint_filepath,\n",
    "    save_weights_only=True,\n",
    "    save_freq=batch_iter.nums,verbose=1)\n",
    "model= build_model('word2vec_fine_tune','RNN',\"transformer\",'IID_Layer')\n",
    "model.summary()"
   ]
  },
  {
   "cell_type": "code",
   "execution_count": null,
   "metadata": {},
   "outputs": [
    {
     "name": "stdout",
     "output_type": "stream",
     "text": [
      "Epoch 1/20\n",
      "2666/8975 [=======>......................] - ETA: 28:12 - loss: 0.1078"
     ]
    }
   ],
   "source": [
    "model.compile(loss='binary_crossentropy', optimizer=tf.keras.optimizers.Adam(learning_rate=0.0001))\n",
    "model.fit(dataset,steps_per_epoch=batch_iter.nums,epochs=20,batch_size=1,validation_data=val_dataset,validation_steps=val_batch_iter.nums,callbacks=[model_checkpoint_callback])\n",
    "textfile_merged = open(os.getcwd()+'/word2vec_fine_tune_RNN_transformer_IID_Layer/loss.json','w')\n",
    "json.dump(model.history.history, textfile_merged,indent=2)\n",
    "textfile_merged.close()"
   ]
  },
  {
   "cell_type": "markdown",
   "metadata": {},
   "source": [
    "**word2vec_CNN_Transformer_IID**\n",
    "\n",
    "We trained this model but found nothing surprising so we did not conduct further evaluations on it."
   ]
  },
  {
   "cell_type": "code",
   "execution_count": 64,
   "metadata": {},
   "outputs": [],
   "source": [
    "checkpoint_filepath = os.getcwd()+'/word2vec_CNN_transformer_IID_Layer/model_1-{epoch:02d}'\n",
    "model_checkpoint_callback = tf.keras.callbacks.ModelCheckpoint(\n",
    "    filepath=checkpoint_filepath,\n",
    "    save_weights_only=True,\n",
    "    save_freq=batch_iter.nums,verbose=1)\n",
    "model= build_model('word2vec','CNN',\"transformer\",'IID_Layer')"
   ]
  },
  {
   "cell_type": "code",
   "execution_count": 65,
   "metadata": {},
   "outputs": [
    {
     "name": "stdout",
     "output_type": "stream",
     "text": [
      "Model: \"model_12\"\n",
      "_________________________________________________________________\n",
      " Layer (type)                Output Shape              Param #   \n",
      "=================================================================\n",
      " Input (InputLayer)          [(32, 70, 100)]           0         \n",
      "                                                                 \n",
      " embedding_4 (Embedding)     (32, 70, 100, 128)        3840000   \n",
      "                                                                 \n",
      " cnn_word_extract_18 (CNN_wo  (32, 70, 300)            153900    \n",
      " rd_extract)                                                     \n",
      "                                                                 \n",
      " transformer_enc_18 (transfo  (32, 70, 300)            3912496   \n",
      " rmer_enc)                                                       \n",
      "                                                                 \n",
      " score__layer_17 (Score_Laye  (32, 70)                 85580     \n",
      " r)                                                              \n",
      "                                                                 \n",
      "=================================================================\n",
      "Total params: 7,991,976\n",
      "Trainable params: 4,151,976\n",
      "Non-trainable params: 3,840,000\n",
      "_________________________________________________________________\n"
     ]
    }
   ],
   "source": [
    "model.summary()"
   ]
  },
  {
   "cell_type": "code",
   "execution_count": null,
   "metadata": {},
   "outputs": [
    {
     "name": "stdout",
     "output_type": "stream",
     "text": [
      "Epoch 1/20\n"
     ]
    }
   ],
   "source": [
    "model.compile(loss='binary_crossentropy', optimizer=tf.keras.optimizers.Adam(learning_rate=0.0001))\n",
    "model.fit(dataset,steps_per_epoch=batch_iter.nums,epochs=20,batch_size=1,validation_data=val_dataset,validation_steps=val_batch_iter.nums,callbacks=[model_checkpoint_callback])\n",
    "textfile_merged = open(os.getcwd()+'/word2vec_CNN_transformer_IID_Layer/loss.json','w')\n",
    "json.dump(model.history.history, textfile_merged,indent=2)\n",
    "textfile_merged.close()"
   ]
  },
  {
   "cell_type": "markdown",
   "metadata": {},
   "source": [
    "**Training/Validation loss plots during training**"
   ]
  },
  {
   "cell_type": "code",
   "execution_count": 739,
   "metadata": {},
   "outputs": [],
   "source": [
    "def read_loss(em,se, de, dc):\n",
    "    filepath = os.getcwd()+'/'+em+'_'+se+'_'+de+'_'+dc+'/'\n",
    "    f = open(filepath+'loss.json')\n",
    "    loss = json.load(f)\n",
    "    training_loss = loss[\"loss\"]\n",
    "    val_loss = loss[\"val_loss\"]\n",
    "    return training_loss, val_loss\n",
    "\n",
    "loss_1 = read_loss(\"word2vec\", \"CNN\",\"BiLSTM\",\"RawMLP\")\n",
    "\n",
    "loss_2 = read_loss(\"word2vec\", \"RNN\",\"BiLSTM\",\"RawMLP\")\n",
    "\n",
    "loss_3 = read_loss(\"word2vec\", \"CNN\",\"BiLSTM\",\"IID_Layer\")\n",
    "\n",
    "loss_4 = read_loss(\"word2vec\", \"RNN\",\"BiLSTM\",\"IID_Layer\")\n",
    "\n",
    "loss_5 = read_loss(\"word2vec\", \"RNN\",\"transformer\",\"IID_Layer\")\n",
    "\n",
    "loss_6 = read_loss(\"word2vec_fine_tune\", \"RNN\",\"transformer\",\"IID_Layer\")"
   ]
  },
  {
   "cell_type": "code",
   "execution_count": 762,
   "metadata": {},
   "outputs": [
    {
     "data": {
      "image/png": "[encoded data removed]",
      "text/plain": [
       "<Figure size 1008x576 with 2 Axes>"
      ]
     },
     "metadata": {
      "needs_background": "light"
     },
     "output_type": "display_data"
    }
   ],
   "source": [
    "fig, ax = plt.subplots(1,2,figsize=(14,8))\n",
    "ax[0].plot(loss_1[0], label=\"model1_train_loss\")\n",
    "ax[1].plot(loss_1[1], label=\"model1_val_loss\")\n",
    "\n",
    "ax[0].plot(loss_2[0], label=\"model2_train_loss\")\n",
    "ax[1].plot(loss_2[1], label=\"model2_val_loss\")\n",
    "\n",
    "ax[0].plot(loss_3[0], label=\"model3_train_loss\")\n",
    "ax[1].plot(loss_3[1], label=\"model3_val_loss\")\n",
    "\n",
    "ax[0].plot(loss_4[0], label=\"model4_train_loss\")\n",
    "ax[1].plot(loss_4[1], label=\"model4_val_loss\")\n",
    "\n",
    "ax[0].plot(loss_5[0], label=\"model5_train_loss\")\n",
    "ax[1].plot(loss_5[1], label=\"model5_val_loss\")\n",
    "\n",
    "ax[0].plot(loss_6[0], label=\"model6_train_loss\")\n",
    "ax[1].plot(loss_6[1], label=\"model6_val_loss\")\n",
    "\n",
    "ax[0].legend()\n",
    "ax[1].legend()\n",
    "ax[0].grid()\n",
    "ax[1].grid()\n",
    "ax[0].set_xlabel(\"Number of epochs\")\n",
    "ax[0].set_ylabel(\"Loss\")\n",
    "ax[1].set_xlabel(\"Number of epochs\")\n",
    "plt.suptitle(\"Training/Validation loss again epoch\")\n",
    "#fig.savefig(\"Loss.png\", bbox_inches='tight')\n",
    "plt.show()"
   ]
  },
  {
   "cell_type": "markdown",
   "metadata": {},
   "source": []
  },
  {
   "cell_type": "markdown",
   "metadata": {
    "tags": []
   },
   "source": [
    "## Evaluation\n",
    "**Models built**"
   ]
  },
  {
   "cell_type": "code",
   "execution_count": null,
   "metadata": {},
   "outputs": [],
   "source": [
    "model1 = read_model(\"word2vec\", \"CNN\",\"BiLSTM\",\"RawMLP\")\n",
    "\n",
    "model2 = read_model(\"word2vec\", \"RNN\",\"BiLSTM\",\"RawMLP\")\n",
    "\n",
    "model3 = read_model(\"word2vec\", \"CNN\",\"BiLSTM\",\"Scoring_Layer\")\n",
    "\n",
    "model4 = read_model(\"word2vec\", \"RNN\",\"BiLSTM\",\"Scoring_Layer\")\n",
    "\n",
    "model5 = read_model(\"word2vec\", \"RNN\",\"transformer\",\"Scoring_Layer\")\n",
    "\n",
    "model6 = read_model(\"word2vec_fine_tune\", \"RNN\",\"transformer\",\"Scoring_Layer\")"
   ]
  },
  {
   "cell_type": "markdown",
   "metadata": {
    "tags": []
   },
   "source": [
    "### ROC curve metrics\n",
    "After eliminating trivial sentences of documents from testing set, we have in total 306280 non-trivial sentences. This gives 306280 labels and probabilities of labelling 1. And for each model we will use this pair to plot the ROC curve and the AUC score."
   ]
  },
  {
   "cell_type": "code",
   "execution_count": null,
   "metadata": {},
   "outputs": [],
   "source": [
    "models = [model1, model2, model3, model4, model5, model6]\n",
    "metric_dic = {\"model1\":None,\n",
    "          \"model2\": None,\n",
    "          \"model3\": None,\n",
    "          \"model4\": None,\n",
    "          \"model5\": None,\n",
    "          \"model6\": None}\n",
    "\n",
    "for index, Model in enumerate(models):\n",
    "    test_dir=os.getcwd() + '/data/Dataset_Batch/test/'\n",
    "    batch_iter = batch_reader(test_dir)\n",
    "    obj = Util(Model)\n",
    "    metric_dic[f\"model{index+1}\"] = obj.roc_curve(batch_iter)"
   ]
  },
  {
   "cell_type": "code",
   "execution_count": 582,
   "metadata": {},
   "outputs": [
    {
     "data": {
      "image/png": "[encoded data removed]",
      "text/plain": [
       "<Figure size 864x864 with 1 Axes>"
      ]
     },
     "metadata": {
      "needs_background": "light"
     },
     "output_type": "display_data"
    }
   ],
   "source": [
    "fig, ax = plt.subplots(figsize=(12,12))\n",
    "for i in range(1,7):\n",
    "    fpr, tpr, auc = metric_dic[f\"model{i}\"]\n",
    "    ax.plot(fpr, tpr, label=f\"model{i}:AUC={auc}\")\n",
    "ax.plot([0,1],[0,1],\"k\")\n",
    "ax.set_xlabel(\"fpr\", fontsize=14)\n",
    "ax.set_ylabel(\"tpr\", fontsize=14)\n",
    "ax.grid()\n",
    "ax.legend()\n",
    "#fig.savefig(\"ROC.png\", bbox_inches='tight')\n",
    "plt.show()"
   ]
  },
  {
   "cell_type": "markdown",
   "metadata": {},
   "source": [
    "From the perspective of ROC metric, model 1 and model 3 have the lowest\n",
    "figures. And these two models both use CNN as the sentence encoder, also we can find that the two models\n",
    "have the highest validation loss during training. The model with the best performance in terms of AUC score\n",
    "is model 5, which is equipped with word2vec+BiGRU+BiLSTM+Transformer+IID. This model also has the\n",
    "lowest validation loss."
   ]
  },
  {
   "cell_type": "markdown",
   "metadata": {
    "tags": []
   },
   "source": [
    "### ROUGE metrics\n",
    "In this part we will use ROUGE-1, ROUGE-2 and ROUGE-L(detailed in the report) to evaluate the performance of our models. Each of the  three consists of 3 types of metrics: Recall, Precision and F1 score. Since we are using the full-length variants so that F1 can better reflect the overall performances of models. We will also try 3 different threshold values on classification."
   ]
  },
  {
   "cell_type": "markdown",
   "metadata": {},
   "source": [
    "**Imbalance of labels on the training set**\n",
    "\n",
    "When selecting threshold $P(y>\\tau)=1$ on the classification, we need to first assess the imbalance of labels on the training dataset, since it is a relevant measure depending on the data set, so deterministically set $\\tau=0.5$ may not be an optimal strategy. Here we calculate the rate of imbalance on the training set: $$Imbalance = \\frac{\\#Negative~labels}{\\#Postive~ labels}=\\frac{6860319}{854206}=8.03$$"
   ]
  },
  {
   "cell_type": "code",
   "execution_count": 702,
   "metadata": {},
   "outputs": [],
   "source": [
    "train_dir=os.getcwd() + '/data/Dataset_Batch/train/'\n",
    "batch_iter = batch_reader(train_dir)\n",
    "def imbalance_rate(batch_iter):\n",
    "    batch_iter.insert_tokenizer(np.vectorize(lambda e: prep.robust_word2id[e]))\n",
    "    i=0\n",
    "    label_total = []\n",
    "    while i<batch_iter.nums:\n",
    "        doc,label=batch_iter.next_batch()\n",
    "        ind_sent = np.sum(doc, axis=2)!=0 #the index of non-trivial sentences.\n",
    "        label_total += list(label[ind_sent])\n",
    "        i+=1\n",
    "    label_new = np.array(label_total)\n",
    "    pos_label = label_new.sum()\n",
    "    neg_label = label_new.size-pos_label\n",
    "    return pos_label, neg_label\n",
    "\n",
    "training_imbalance = imbalance_rate(batch_iter)"
   ]
  },
  {
   "cell_type": "code",
   "execution_count": 704,
   "metadata": {},
   "outputs": [
    {
     "name": "stdout",
     "output_type": "stream",
     "text": [
      "The number of positive training labels:854206\n",
      "The number of negative training labels:6860319\n"
     ]
    }
   ],
   "source": [
    "print(f\"The number of positive training labels:{training_imbalance[0]}\")\n",
    "print(f\"The number of negative training labels:{training_imbalance[1]}\")"
   ]
  },
  {
   "cell_type": "markdown",
   "metadata": {},
   "source": [
    "So it is not surprising that if we set only $\\tau=0.5$, we cannot expect sound results from any model. After experiments and to meet the limited computation resource, we set three interpretable threshold values: $\\tau=\\{0.2,0.3,0.4\\}$"
   ]
  },
  {
   "cell_type": "markdown",
   "metadata": {},
   "source": [
    "**Computing ROUGE for Baseline Lead-3 model**"
   ]
  },
  {
   "cell_type": "code",
   "execution_count": null,
   "metadata": {},
   "outputs": [],
   "source": [
    "#compute the ROUGE-1. ROUGE-2 and ROUGE-L metric for Lead-3 model.\n",
    "def lead_rouge(N_gram):\n",
    "    test_dir=os.getcwd() + '/data/Dataset_Batch/test/'\n",
    "    batch_iter = batch_reader(test_dir)\n",
    "    obj = Util(model6, lead=True) #the first argument does not matter when lead=True\n",
    "    lead_score = obj.rouge_overall(batch_iter, N_gram, \"f\", 0.4) #threshold also does not matter when lead=True\n",
    "    return lead_score\n",
    "\n",
    "lead_rouge_1 = lead_rouge(\"rouge-1\")\n",
    "lead_rouge_2 = lead_rouge(\"rouge-2\")\n",
    "lead_rouge_L = lead_rouge(\"rouge-l\")"
   ]
  },
  {
   "cell_type": "code",
   "execution_count": 729,
   "metadata": {},
   "outputs": [
    {
     "name": "stdout",
     "output_type": "stream",
     "text": [
      "ROUGE-1 for Lead-3 model:0.4071\n",
      "ROUGE-2 for Lead-3 model:0.1705\n",
      "ROUGE-L for Lead-3 model:0.3707\n"
     ]
    }
   ],
   "source": [
    "print(f\"ROUGE-1 for Lead-3 model:{lead_rouge_1}\")\n",
    "print(f\"ROUGE-2 for Lead-3 model:{lead_rouge_2}\")\n",
    "print(f\"ROUGE-L for Lead-3 model:{lead_rouge_L}\")"
   ]
  },
  {
   "cell_type": "markdown",
   "metadata": {},
   "source": [
    "**Computing ROUGE for other models**"
   ]
  },
  {
   "cell_type": "code",
   "execution_count": 646,
   "metadata": {},
   "outputs": [],
   "source": [
    "model_map = {\"model1\":None,\n",
    "          \"model2\": None,\n",
    "          \"model3\": None,\n",
    "          \"model4\": None,\n",
    "          \"model5\": None,\n",
    "          \"model6\": None}\n",
    "\n",
    "N_grams = {\"rouge-1\":model_map,\n",
    "           \"rouge-2\":model_map,\n",
    "           \"rouge-l\":model_map}\n",
    "\n",
    "threshold_map = {\"0.2\":N_grams,\n",
    "                \"0.3\":N_grams,\n",
    "                \"0.4\":N_grams}\n",
    "\n",
    "models = [model1, model2, model3, model4, model5, model6]\n",
    "N_grams_names = [\"rouge-1\",\"rouge-2\",\"rouge-l\"]\n",
    "threshold_names = [\"0.2\",\"0.3\",\"0.4\"]"
   ]
  },
  {
   "cell_type": "code",
   "execution_count": null,
   "metadata": {},
   "outputs": [],
   "source": [
    "for threshold_name in threshold_names:\n",
    "    threshold = float(threshold_name)\n",
    "    for N_gram in N_grams_names:\n",
    "        for index, Model in enumerate(models):\n",
    "            test_dir=os.getcwd() + '/data/Dataset_Batch/test/'\n",
    "            batch_iter = batch_reader(test_dir)\n",
    "            obj = Util(Model)\n",
    "            value = obj.rouge_overall(batch_iter, N_gram, \"f\", threshold)\n",
    "            threshold_map[threshold_name][N_gram][f\"model{index+1}\"] = value\n",
    "with open('result.json', 'w') as fp:\n",
    "    json.dump(threshold_map, fp)"
   ]
  },
  {
   "cell_type": "markdown",
   "metadata": {},
   "source": [
    "The results from above computation and analysis are shown here, they are also used in the report:"
   ]
  },
  {
   "cell_type": "markdown",
   "metadata": {},
   "source": [
    "<img src=\"threshold_0.2.png\" />"
   ]
  },
  {
   "cell_type": "markdown",
   "metadata": {},
   "source": [
    "<img src=\"threshold_0.3.png\" />"
   ]
  },
  {
   "cell_type": "markdown",
   "metadata": {},
   "source": [
    "<img src=\"threshold_0.4.png\" />"
   ]
  },
  {
   "cell_type": "markdown",
   "metadata": {
    "tags": []
   },
   "source": [
    "### Generated summaraies from real text\n",
    "\n",
    "In this part we will use our trained model (Model 6) to summarise from real text documents and compare with true and gold summaries. We will set the threshold $\\tau=0.3$."
   ]
  },
  {
   "cell_type": "code",
   "execution_count": 822,
   "metadata": {},
   "outputs": [],
   "source": [
    "def get_summaries(batch_iter,vector, gold_vector):\n",
    "    generated_summaries=[]\n",
    "    true_summaries=[]\n",
    "    gold_summaries=[]\n",
    "    original_doc = []\n",
    "    for i,f in enumerate(batch_iter.f_list):\n",
    "        with open(batch_iter.dir+f, \"rb\") as infile:\n",
    "            file_json=json.load(infile)\n",
    "            for index in range(batch_iter.sample_per_file):\n",
    "                json_now=file_json[str(index)]\n",
    "                generated_summaries.append(\" \".join([sent if vector[i*batch_iter.sample_per_file+index][min(j,config['global']['doc_length']-1)]==1 else '' for j,sent in enumerate(json_now['article'])]))\n",
    "                gold_summaries.append(\" \".join([sent if gold_vector[i*batch_iter.sample_per_file+index][min(j,config['global']['doc_length']-1)]==1 else '' for j,sent in enumerate(json_now['article'])]))\n",
    "                true_summaries.append(\" \".join(json_now['abstract']))\n",
    "                original_doc.append(\" \".join(json_now['article']))\n",
    "    return generated_summaries,true_summaries, gold_summaries, original_doc"
   ]
  },
  {
   "cell_type": "code",
   "execution_count": 893,
   "metadata": {},
   "outputs": [],
   "source": [
    "test_dir=os.getcwd() + '/data/Dataset_Batch/test/'\n",
    "batch_iter = batch_reader(test_dir)\n",
    "batch_iter.insert_tokenizer(np.vectorize(lambda e: prep.robust_word2id[e]))\n",
    "doc, label = batch_iter.next_batch()\n",
    "prediction_vector =  np.vectorize(lambda x: 1 if x >= 0.3 else 0)(model6.predict(doc))\n",
    "generated_summaries,true_summaries, gold_summaries, original_docs = get_summaries(batch_iter, prediction_vector, label)"
   ]
  },
  {
   "cell_type": "markdown",
   "metadata": {},
   "source": [
    "**Example 1**\n",
    "\n",
    "This is also shown as an example in the report"
   ]
  },
  {
   "cell_type": "code",
   "execution_count": 883,
   "metadata": {},
   "outputs": [
    {
     "data": {
      "text/plain": [
       "\"-lrb- cnn -rrb- a duke student has admitted to hanging a noose made of rope from a tree near a student union , university officials said thursday . the prestigious private school did n't identify the student , citing federal privacy laws . in a news release , it said the student was no longer on campus and will face student conduct review . the student was identified during an investigation by campus police and the office of student affairs and admitted to placing the noose on the tree early wednesday , the university said . officials are still trying to determine if other people were involved . criminal investigations into the incident are ongoing as well . students and faculty members marched wednesday afternoon chanting `` we are not afraid . we stand together , '' after pictures of the noose were passed around on social media . at a forum held on the steps of duke chapel , close to where the noose was discovered at 2 a.m. , hundreds of people gathered . `` you came here for the reason that you want to say with me , ` this is no duke we will accept . this is no duke we want . this is not the duke we 're here to experience . and this is not the duke we 're here to create , ' '' duke president richard brodhead told the crowd . the incident is one of several recent racist events to affect college students . last month a fraternity at the university of oklahoma had its charter removed after a video surfaced showing members using the n-word and referring to lynching in a chant . two students were expelled . in february , a noose was hung around the neck of a statue of a famous civil rights figure at the university of mississippi . a statement issued by duke said there was a previous report of hate speech directed at students on campus . in the news release , the vice president for student affairs called the noose incident a `` cowardly act . '' `` to whomever committed this hateful and stupid act , i just want to say that if your intent was to create fear , it will have the opposite effect , '' larry moneta said wednesday . duke university is a private college with about 15,000 students in durham , north carolina . cnn 's dave alsup contributed to this report .\""
      ]
     },
     "execution_count": 883,
     "metadata": {},
     "output_type": "execute_result"
    }
   ],
   "source": [
    "original_docs[5]"
   ]
  },
  {
   "cell_type": "code",
   "execution_count": 884,
   "metadata": {},
   "outputs": [
    {
     "data": {
      "text/plain": [
       "\"-lrb- cnn -rrb- a duke student has admitted to hanging a noose made of rope from a tree near a student union , university officials said thursday . the prestigious private school did n't identify the student , citing federal privacy laws . in a news release , it said the student was no longer on campus and will face student conduct review .              \""
      ]
     },
     "execution_count": 884,
     "metadata": {},
     "output_type": "execute_result"
    }
   ],
   "source": [
    "generated_summaries[5]"
   ]
  },
  {
   "cell_type": "code",
   "execution_count": 885,
   "metadata": {},
   "outputs": [
    {
     "data": {
      "text/plain": [
       "'student is no longer on duke university campus and will face disciplinary review . school officials identified student during investigation and the person admitted to hanging the noose , duke says . the noose , made of rope , was discovered on campus about 2 a.m.'"
      ]
     },
     "execution_count": 885,
     "metadata": {},
     "output_type": "execute_result"
    }
   ],
   "source": [
    "true_summaries[5]"
   ]
  },
  {
   "cell_type": "code",
   "execution_count": 886,
   "metadata": {},
   "outputs": [
    {
     "data": {
      "text/plain": [
       "\"-lrb- cnn -rrb- a duke student has admitted to hanging a noose made of rope from a tree near a student union , university officials said thursday . the prestigious private school did n't identify the student , citing federal privacy laws . in a news release , it said the student was no longer on campus and will face student conduct review . the student was identified during an investigation by campus police and the office of student affairs and admitted to placing the noose on the tree early wednesday , the university said .             \""
      ]
     },
     "execution_count": 886,
     "metadata": {},
     "output_type": "execute_result"
    }
   ],
   "source": [
    "gold_summaries[5]"
   ]
  },
  {
   "cell_type": "markdown",
   "metadata": {},
   "source": [
    "**Example 2**"
   ]
  },
  {
   "cell_type": "code",
   "execution_count": 875,
   "metadata": {},
   "outputs": [
    {
     "data": {
      "text/plain": [
       "\"-lrb- cnn -rrb- the palestinian authority officially became the 123rd member of the international criminal court on wednesday , a step that gives the court jurisdiction over alleged crimes in palestinian territories . the formal accession was marked with a ceremony at the hague , in the netherlands , where the court is based . the palestinians signed the icc 's founding rome statute in january , when they also accepted its jurisdiction over alleged crimes committed `` in the occupied palestinian territory , including east jerusalem , since june 13 , 2014 . '' later that month , the icc opened a preliminary examination into the situation in palestinian territories , paving the way for possible war crimes investigations against israelis . as members of the court , palestinians may be subject to counter-charges as well . israel and the united states , neither of which is an icc member , opposed the palestinians ' efforts to join the body . but palestinian foreign minister riad al-malki , speaking at wednesday 's ceremony , said it was a move toward greater justice . `` as palestine formally becomes a state party to the rome statute today , the world is also a step closer to ending a long era of impunity and injustice , '' he said , according to an icc news release . `` indeed , today brings us closer to our shared goals of justice and peace . '' judge kuniko ozaki , a vice president of the icc , said acceding to the treaty was just the first step for the palestinians . `` as the rome statute today enters into force for the state of palestine , palestine acquires all the rights as well as responsibilities that come with being a state party to the statute . these are substantive commitments , which can not be taken lightly , '' she said . rights group human rights watch welcomed the development . `` governments seeking to penalize palestine for joining the icc should immediately end their pressure , and countries that support universal acceptance of the court 's treaty should speak out to welcome its membership , '' said balkees jarrah , international justice counsel for the group . `` what 's objectionable is the attempts to undermine international justice , not palestine 's decision to join a treaty to which over 100 countries around the world are members . '' in january , when the preliminary icc examination was opened , israeli prime minister benjamin netanyahu described it as an outrage , saying the court was overstepping its boundaries . the united states also said it `` strongly '' disagreed with the court 's decision . `` as we have said repeatedly , we do not believe that palestine is a state and therefore we do not believe that it is eligible to join the icc , '' the state department said in a statement . it urged the warring sides to resolve their differences through direct negotiations . `` we will continue to oppose actions against israel at the icc as counterproductive to the cause of peace , '' it said . but the icc begs to differ with the definition of a state for its purposes and refers to the territories as `` palestine . '' while a preliminary examination is not a formal investigation , it allows the court to review evidence and determine whether to investigate suspects on both sides . prosecutor fatou bensouda said her office would `` conduct its analysis in full independence and impartiality . '' the war between israel and hamas militants in gaza last summer left more than 2,000 people dead . the inquiry will include alleged war crimes committed since june . the international criminal court was set up in 2002 to prosecute genocide , crimes against humanity and war crimes . cnn 's vasco cotovio , kareem khadder and faith karimi contributed to this report .\""
      ]
     },
     "execution_count": 875,
     "metadata": {},
     "output_type": "execute_result"
    }
   ],
   "source": [
    "original_docs[1]"
   ]
  },
  {
   "cell_type": "code",
   "execution_count": 876,
   "metadata": {},
   "outputs": [
    {
     "data": {
      "text/plain": [
       "\"-lrb- cnn -rrb- the palestinian authority officially became the 123rd member of the international criminal court on wednesday , a step that gives the court jurisdiction over alleged crimes in palestinian territories . the formal accession was marked with a ceremony at the hague , in the netherlands , where the court is based . the palestinians signed the icc 's founding rome statute in january , when they also accepted its jurisdiction over alleged crimes committed `` in the occupied palestinian territory , including east jerusalem , since june 13 , 2014 . ''                  \""
      ]
     },
     "execution_count": 876,
     "metadata": {},
     "output_type": "execute_result"
    }
   ],
   "source": [
    "generated_summaries[1]"
   ]
  },
  {
   "cell_type": "code",
   "execution_count": 877,
   "metadata": {},
   "outputs": [
    {
     "data": {
      "text/plain": [
       "'membership gives the icc jurisdiction over alleged crimes committed in palestinian territories since last june . israel and the united states opposed the move , which could open the door to war crimes investigations against israelis .'"
      ]
     },
     "execution_count": 877,
     "metadata": {},
     "output_type": "execute_result"
    }
   ],
   "source": [
    "true_summaries[1]"
   ]
  },
  {
   "cell_type": "code",
   "execution_count": 878,
   "metadata": {},
   "outputs": [
    {
     "data": {
      "text/plain": [
       "\"-lrb- cnn -rrb- the palestinian authority officially became the 123rd member of the international criminal court on wednesday , a step that gives the court jurisdiction over alleged crimes in palestinian territories .    israel and the united states , neither of which is an icc member , opposed the palestinians ' efforts to join the body .              the war between israel and hamas militants in gaza last summer left more than 2,000 people dead . the inquiry will include alleged war crimes committed since june .  \""
      ]
     },
     "execution_count": 878,
     "metadata": {},
     "output_type": "execute_result"
    }
   ],
   "source": [
    "gold_summaries[1]"
   ]
  },
  {
   "cell_type": "markdown",
   "metadata": {},
   "source": [
    "**Example 3**\n",
    "\n",
    "Long document example"
   ]
  },
  {
   "cell_type": "code",
   "execution_count": 887,
   "metadata": {},
   "outputs": [
    {
     "data": {
      "text/plain": [
       "\"marseille , france -lrb- cnn -rrb- the french prosecutor leading an investigation into the crash of germanwings flight 9525 insisted wednesday that he was not aware of any video footage from on board the plane . marseille prosecutor brice robin told cnn that `` so far no videos were used in the crash investigation . '' he added , `` a person who has such a video needs to immediately give it to the investigators . '' robin 's comments follow claims by two magazines , german daily bild and french paris match , of a cell phone video showing the harrowing final seconds from on board germanwings flight 9525 as it crashed into the french alps . all 150 on board were killed . paris match and bild reported that the video was recovered from a phone at the wreckage site . the two publications described the supposed video , but did not post it on their websites . the publications said that they watched the video , which was found by a source close to the investigation . `` one can hear cries of ` my god ' in several languages , '' paris match reported . `` metallic banging can also be heard more than three times , perhaps of the pilot trying to open the cockpit door with a heavy object . towards the end , after a heavy shake , stronger than the others , the screaming intensifies . then nothing . '' `` it is a very disturbing scene , '' said julian reichelt , editor-in-chief of bild online . an official with france 's accident investigation agency , the bea , said the agency is not aware of any such video . lt. col. jean-marc menichini , a french gendarmerie spokesman in charge of communications on rescue efforts around the germanwings crash site , told cnn that the reports were `` completely wrong '' and `` unwarranted . '' cell phones have been collected at the site , he said , but that they `` had n't been exploited yet . '' menichini said he believed the cell phones would need to be sent to the criminal research institute in rosny sous-bois , near paris , in order to be analyzed by specialized technicians working hand-in-hand with investigators . but none of the cell phones found so far have been sent to the institute , menichini said . asked whether staff involved in the search could have leaked a memory card to the media , menichini answered with a categorical `` no . '' reichelt told `` erin burnett : outfront '' that he had watched the video and stood by the report , saying bild and paris match are `` very confident '' that the clip is real . he noted that investigators only revealed they 'd recovered cell phones from the crash site after bild and paris match published their reports . `` that is something we did not know before . ... overall we can say many things of the investigation were n't revealed by the investigation at the beginning , '' he said . what was mental state of germanwings co-pilot ? german airline lufthansa confirmed tuesday that co-pilot andreas lubitz had battled depression years before he took the controls of germanwings flight 9525 , which he 's accused of deliberately crashing last week in the french alps . lubitz told his lufthansa flight training school in 2009 that he had a `` previous episode of severe depression , '' the airline said tuesday . email correspondence between lubitz and the school discovered in an internal investigation , lufthansa said , included medical documents he submitted in connection with resuming his flight training . the announcement indicates that lufthansa , the parent company of germanwings , knew of lubitz 's battle with depression , allowed him to continue training and ultimately put him in the cockpit . lufthansa , whose ceo carsten spohr previously said lubitz was 100 % fit to fly , described its statement tuesday as a `` swift and seamless clarification '' and said it was sharing the information and documents -- including training and medical records -- with public prosecutors . spohr traveled to the crash site wednesday , where recovery teams have been working for the past week to recover human remains and plane debris scattered across a steep mountainside . he saw the crisis center set up in seyne-les-alpes , laid a wreath in the village of le vernet , closer to the crash site , where grieving families have left flowers at a simple stone memorial . menichini told cnn late tuesday that no visible human remains were left at the site but recovery teams would keep searching . french president francois hollande , speaking tuesday , said that it should be possible to identify all the victims using dna analysis by the end of the week , sooner than authorities had previously suggested . in the meantime , the recovery of the victims ' personal belongings will start wednesday , menichini said . among those personal belongings could be more cell phones belonging to the 144 passengers and six crew on board . check out the latest from our correspondents . the details about lubitz 's correspondence with the flight school during his training were among several developments as investigators continued to delve into what caused the crash and lubitz 's possible motive for downing the jet . a lufthansa spokesperson told cnn on tuesday that lubitz had a valid medical certificate , had passed all his examinations and `` held all the licenses required . '' earlier , a spokesman for the prosecutor 's office in dusseldorf , christoph kumpa , said medical records reveal lubitz suffered from suicidal tendencies at some point before his aviation career and underwent psychotherapy before he got his pilot 's license . kumpa emphasized there 's no evidence suggesting lubitz was suicidal or acting aggressively before the crash . investigators are looking into whether lubitz feared his medical condition would cause him to lose his pilot 's license , a european government official briefed on the investigation told cnn on tuesday . while flying was `` a big part of his life , '' the source said , it 's only one theory being considered . another source , a law enforcement official briefed on the investigation , also told cnn that authorities believe the primary motive for lubitz to bring down the plane was that he feared he would not be allowed to fly because of his medical problems . lubitz 's girlfriend told investigators he had seen an eye doctor and a neuropsychologist , both of whom deemed him unfit to work recently and concluded he had psychological issues , the european government official said . but no matter what details emerge about his previous mental health struggles , there 's more to the story , said brian russell , a forensic psychologist . `` psychology can explain why somebody would turn rage inward on themselves about the fact that maybe they were n't going to keep doing their job and they 're upset about that and so they 're suicidal , '' he said . `` but there is no mental illness that explains why somebody then feels entitled to also take that rage and turn it outward on 149 other people who had nothing to do with the person 's problems . '' germanwings crash compensation : what we know . who was the captain of germanwings flight 9525 ? cnn 's margot haddad reported from marseille and pamela brown from dusseldorf , while laura smith-spark wrote from london . cnn 's frederik pleitgen , pamela boykoff , antonia mortensen , sandrine amiel and anna-maja rappard contributed to this report .\""
      ]
     },
     "execution_count": 887,
     "metadata": {},
     "output_type": "execute_result"
    }
   ],
   "source": [
    "original_docs[0]"
   ]
  },
  {
   "cell_type": "code",
   "execution_count": 888,
   "metadata": {},
   "outputs": [
    {
     "data": {
      "text/plain": [
       "\"marseille , france -lrb- cnn -rrb- the french prosecutor leading an investigation into the crash of germanwings flight 9525 insisted wednesday that he was not aware of any video footage from on board the plane . marseille prosecutor brice robin told cnn that `` so far no videos were used in the crash investigation . ''                                        \""
      ]
     },
     "execution_count": 888,
     "metadata": {},
     "output_type": "execute_result"
    }
   ],
   "source": [
    "generated_summaries[0]"
   ]
  },
  {
   "cell_type": "code",
   "execution_count": 889,
   "metadata": {},
   "outputs": [
    {
     "data": {
      "text/plain": [
       "\"marseille prosecutor says `` so far no videos were used in the crash investigation '' despite media reports . journalists at bild and paris match are `` very confident '' the video clip is real , an editor says . andreas lubitz had informed his lufthansa training school of an episode of severe depression , airline says .\""
      ]
     },
     "execution_count": 889,
     "metadata": {},
     "output_type": "execute_result"
    }
   ],
   "source": [
    "true_summaries[0]"
   ]
  },
  {
   "cell_type": "code",
   "execution_count": 890,
   "metadata": {},
   "outputs": [
    {
     "data": {
      "text/plain": [
       "\" marseille prosecutor brice robin told cnn that `` so far no videos were used in the crash investigation . ''            reichelt told `` erin burnett : outfront '' that he had watched the video and stood by the report , saying bild and paris match are `` very confident '' that the clip is real .     lubitz told his lufthansa flight training school in 2009 that he had a `` previous episode of severe depression , '' the airline said tuesday .                       \""
      ]
     },
     "execution_count": 890,
     "metadata": {},
     "output_type": "execute_result"
    }
   ],
   "source": [
    "gold_summaries[0]"
   ]
  },
  {
   "cell_type": "markdown",
   "metadata": {
    "tags": []
   },
   "source": [
    "## Conclusion"
   ]
  },
  {
   "cell_type": "markdown",
   "metadata": {},
   "source": [
    "We conclude the following:\n",
    "1. Only when we use threshold equal to 0.2 or 0.3, our model can be as competitive as Lead-3. Most models\n",
    "outperform Lead-3 when the threshold is 0.2.\n",
    "2. In terms of Sentence Encoders, the performance of CNN is significantly worse than BiGRU, which contradicts\n",
    "to the previous findings[4].\n",
    "3. We find that in terms of Document Decoder, the performance of IID Layer is slightly stronger than that of\n",
    "MLP Layer, which proves that the additional features is truly effective in this task.\n",
    "4. Models using Transformer as Document Encoder are performing quite well. The fine-tuned model performs\n",
    "better when the threshold is higher, and the pre-trained model performs better when the threshold is lower.\n",
    "We were not able to use BERT in our model due to limitation on computational resources. In the future, we\n",
    "will try to use more advanced transfer learning methods and fine-tune the pre-trained model using unsupervised\n",
    "learning for better results. Acknowledgment Statement: The contributions of our group members to this\n",
    "project are equal.\n",
    "Specifically, 25882(ID number) is responsible for the whole preparation of the data, the code of the ROUGE\n",
    "metrics, the word embedding, the baseline model and the CNN-based sentence encoder. He also takes charge\n",
    "of the construction of the basic content of the python notebook and writing down his work correspondingly\n",
    "in the final report. 26725(ID number) is responsible for the code of the RNN-based sentence and document\n",
    "encoder and the document decoder. He also writes down his work correspondingly and plus the abstract and\n",
    "the introduction part in the final report."
   ]
  }
 ],
 "metadata": {
  "accelerator": "GPU",
  "colab": {
   "collapsed_sections": [],
   "name": "Implementation（副本）",
   "provenance": []
  },
  "kernelspec": {
   "display_name": "Python 3 (ipykernel)",
   "language": "python",
   "name": "python3"
  },
  "language_info": {
   "codemirror_mode": {
    "name": "ipython",
    "version": 3
   },
   "file_extension": ".py",
   "mimetype": "text/x-python",
   "name": "python",
   "nbconvert_exporter": "python",
   "pygments_lexer": "ipython3",
   "version": "3.7.10"
  }
 },
 "nbformat": 4,
 "nbformat_minor": 4
}
