{
  "cells": [
    {
      "cell_type": "markdown",
      "source": [
        "**Import packages**"
      ],
      "metadata": {
        "id": "n-0zMW93X-Xd"
      }
    },
    {
      "cell_type": "code",
      "execution_count": null,
      "metadata": {
        "id": "vAGy_BaNh37V"
      },
      "outputs": [],
      "source": [
        "import pandas as pd\n",
        "import numpy as np\n",
        "import tensorflow as tf\n",
        "import matplotlib.pyplot as plt\n",
        "import math\n",
        "from tensorflow import keras\n",
        "from tensorflow.keras import layers\n",
        "import datetime\n",
        "import copy\n",
        "import random\n",
        "from collections import Counter\n",
        "import gensim \n",
        "from gensim.models import Word2Vec\n",
        "import gensim.models.doc2vec as doc2vec\n",
        "from sklearn import model_selection\n",
        "\n",
        "%matplotlib inline\n",
        "\n",
        "from google.colab import drive\n",
        "\n",
        "import pickle\n",
        "import warnings\n",
        "warnings.filterwarnings(\"ignore\")"
      ]
    },
    {
      "cell_type": "code",
      "source": [
        "drive.mount('/content/drive')\n",
        "import os\n",
        "os.chdir('drive/MyDrive/Capstone')"
      ],
      "metadata": {
        "id": "aZt9eytQ923M",
        "colab": {
          "base_uri": "https://localhost:8080/"
        },
        "outputId": "47b747a9-bf0c-4435-daaa-7646c699a7af"
      },
      "execution_count": null,
      "outputs": [
        {
          "output_type": "stream",
          "name": "stdout",
          "text": [
            "Mounted at /content/drive\n"
          ]
        }
      ]
    },
    {
      "cell_type": "markdown",
      "source": [
        "#1 Data preparing and processing"
      ],
      "metadata": {
        "id": "GOEndNlWB34Y"
      }
    },
    {
      "cell_type": "markdown",
      "source": [
        "##1.1 Building and processing"
      ],
      "metadata": {
        "id": "GuQmm9CScuo5"
      }
    },
    {
      "cell_type": "code",
      "source": [
        "class data_process(): #the super class for two sub classes\n",
        "  def __init__(self, seq_len=11): #the maximum sequence length\n",
        "    self.act2id = {} #tokenizer: mapping from activity title to Id and its focus area\n",
        "    self.id2act = {}\n",
        "    self.seq_len = seq_len\n",
        "    self.pre = None\n",
        "    self.pro = None\n",
        "  \n",
        "  def set_tokenizer(self, df_filt): # set up two tokenizer mappings\n",
        "    df_map = df_filt.drop_duplicates(subset=[\"activity_title\"])\n",
        "    df_map = df_map.sort_values([\"activity_title\"])\n",
        "    df_map.reset_index(drop=True, inplace=True)\n",
        "    \n",
        "    for i,v in df_map.iterrows():\n",
        "      self.act2id[v[\"activity_title\"]] = (i+1, v[\"focus_area_combine\"])\n",
        "      self.id2act[i+1] = (v[\"activity_title\"], v[\"focus_area_combine\"])\n",
        "\n",
        "  def process(self, sliced=False):\n",
        "    if self.pre is None: #if the data is already preprocessed, skip doing again.\n",
        "      df1 = self.preprocess()\n",
        "    else:\n",
        "      df1 = self.pre\n",
        "\n",
        "    new = df1.groupby(by=\"user_id\").agg(list).reset_index()\n",
        "    new.columns=[\"user\",\"activity_sequence\", \"focus_area_combine\", \"time_stamp\"]\n",
        "    new = new[new[\"time_stamp\"].apply(lambda x: len(x)>=2)]\n",
        "\n",
        "    if sliced: #whether to slice the koa data or not.\n",
        "      new[\"user\"] = new[\"user\"].apply(lambda x: np.atleast_1d(x))\n",
        "      new = self.df_slice(new, self.seq_len)\n",
        "\n",
        "    new[\"time_dif\"] = new[\"time_stamp\"].apply(lambda x: np.diff(x)/pd.Timedelta(days=1))\n",
        "    new[\"time_last\"] =  new[\"time_stamp\"].apply(lambda x: x[-1])\n",
        "    new.drop([\"time_stamp\"], axis=1, inplace=True)\n",
        "    new = new.sort_values(by=[\"time_last\"])\n",
        "    new.reset_index(drop=True, inplace=True)\n",
        "\n",
        "    self.pro = new #save the processed data\n",
        "    return new\n",
        "\n",
        "  def get_target(self, sliced=False, use_all=False):\n",
        "    if self.pro is None: #if data is alreayd processed, skip doing again\n",
        "      new = self.process(sliced)\n",
        "    else:\n",
        "      new = self.pro\n",
        "\n",
        "    target = new[\"activity_sequence\"].apply(lambda x: self.act2id[x[-1]][0])\n",
        "    newdf = new[[\"activity_sequence\", \"focus_area_combine\"]]\n",
        "\n",
        "    if not use_all: #if set true, use all the previous activities of users, otherwise use the maximum length.\n",
        "      newdf = newdf.applymap(lambda x: x[-self.seq_len:-1])\n",
        "    else:\n",
        "      newdf = newdf.applymap(lambda x: x[:-1])\n",
        "    \n",
        "    newdf[\"time_dif\"] = new[\"time_dif\"]\n",
        "    newdf[\"target\"] = target\n",
        "    newdf[\"user\"] = new[\"user\"]\n",
        "\n",
        "    newdf[\"time_last\"] = new[\"time_last\"] \n",
        "    newdf[\"actId_sequence\"] = newdf[\"activity_sequence\"].apply(lambda x: [self.act2id[v][0] for v in x])\n",
        "    return newdf\n",
        "  \n",
        "  def label_smoothing(self, use_all=False):#to use label smoothing regularization method, change target shapes to one-hot type.\n",
        "    df = self.get_target(use_all=use_all)\n",
        "    df[\"target\"] = df[\"target\"].apply(lambda x: self.get_one_hot(x, len(self.act2id)+1))\n",
        "    return df\n",
        "\n",
        "  def get_one_hot(self, targets, nb_classes): \n",
        "    res = np.eye(nb_classes)[np.array(targets).reshape(-1)]\n",
        "    return res.reshape(list(np.array(targets).shape)+[nb_classes])\n",
        "  \n",
        "  def save(self, file, sliced=False): #save the processed data and tokenizers \n",
        "    if self.pro is None:\n",
        "      self.process(sliced)\n",
        "    obj = {\"preprocessed\": self.pre,\n",
        "           \"processed\": self.pro,\n",
        "           \"act2id\":self.act2id,\n",
        "           \"id2act\": self.id2act}\n",
        "    pickle_out = open(\"Data/\"+file, \"wb\")\n",
        "    pickle.dump(obj, pickle_out)\n",
        "    pickle_out.close()\n",
        "  \n",
        "  def load(self, file):#load the stored data.\n",
        "    pickle_in = open(\"Data/\"+file, \"rb\")\n",
        "    obj = pickle.load(pickle_in)\n",
        "    self.pre = obj[\"preprocessed\"]\n",
        "    self.pro = obj[\"processed\"]\n",
        "    self.act2id = obj[\"act2id\"]\n",
        "    self.id2act = obj[\"id2act\"]\n",
        "\n",
        "  def preprocess(self):\n",
        "    pass\n",
        "\n",
        "class koa_process(data_process):#child class for Koa data processing\n",
        "  def __init__(self, focus_data, raw_koa):\n",
        "    super().__init__()\n",
        "    self.focus_data = focus_data\n",
        "    self.raw_koa = raw_koa\n",
        "\n",
        "  def koa_focus(self):# obtain focus area data\n",
        "    cols = ['activity_id']\n",
        "    for i in range(11):\n",
        "      cols.append(self.focus_data['data'][i]['abbreviation'])\n",
        "\n",
        "    act_list = []\n",
        "    for i in range(11):\n",
        "      act_list += self.focus_data[\"data\"][i][\"exercises\"]\n",
        "\n",
        "    unique_activities = sorted(list(set(act_list)))\n",
        "\n",
        "    df_focus = pd.DataFrame(columns= cols)\n",
        "    df_focus['activity_id'] = unique_activities\n",
        "    for i in range(len(df_focus)):\n",
        "      for j in range(11):\n",
        "        if df_focus['activity_id'][i] in self.focus_data['data'][j]['exercises']:\n",
        "          df_focus[cols[j+1]][i] = 1\n",
        "        else:\n",
        "          df_focus[cols[j+1]][i] = -1\n",
        "\n",
        "    df_focus['focus_area_combine'] = df_focus[['RTO', 'TS','DSO' ,'HL' ,'FD','WRK', 'FO','LSE','BRN','AT','HT']].values.tolist()\n",
        "    return df_focus\n",
        "  \n",
        "  def preprocess(self): \n",
        "    df_focus = self.koa_focus()\n",
        "    df_raw = self.raw_koa.merge(df_focus[['activity_id','focus_area_combine']], on='activity_id', how='left')\n",
        "    df_raw.dropna(inplace=True)\n",
        "\n",
        "    df_sort = df_raw.sort_values(['user_id', 'created_at'], ascending=[True, True])\n",
        "    df_sort_2 = df_sort[df_sort['event'] == 'tap']\n",
        "\n",
        "    df_filt = df_sort_2[['user_id', 'activity_title', 'focus_area_combine', 'created_at']]\n",
        "    df_filt.reset_index(drop=True, inplace=True)\n",
        "\n",
        "    dup_row_ind = []\n",
        "    for i in range(len(df_filt)-1):\n",
        "      if df_filt.user_id[i] == df_filt.user_id[i+1] and df_filt.activity_title[i] == df_filt.activity_title[i+1]:\n",
        "        dup_row_ind.append(i+1)\n",
        "      \n",
        "    df_filt.drop(dup_row_ind, axis = 0, inplace = True)\n",
        "    df_filt.reset_index(drop=True, inplace=True)\n",
        "    df_filt[\"created_at\"] = df_filt[\"created_at\"].astype('datetime64[ns]')\n",
        "\n",
        "    #map activity title to integer\n",
        "    self.set_tokenizer(df_filt)\n",
        "\n",
        "    self.pre = df_filt\n",
        "    return df_filt\n",
        "\n",
        "  def df_slice(self, df, seq_len): #our attempting of slicing the koa data at the beginning.\n",
        "    new = df.applymap(lambda x: self.seq_slice(x, seq_len))\n",
        "\n",
        "    seq_map = {\"activity_sequence\": [], \n",
        "              \"time_stamp\": [],\n",
        "              \"focus_area_combine\": [],\n",
        "               \"user\": []}\n",
        "\n",
        "    for i,v in new.iterrows():\n",
        "      len_seq = len(v[\"activity_sequence\"])\n",
        "      for j in range(len_seq):\n",
        "        seq_map[\"activity_sequence\"].append(v[\"activity_sequence\"][j])\n",
        "        seq_map[\"time_stamp\"].append(v[\"time_stamp\"][j])\n",
        "        seq_map[\"focus_area_combine\"].append(v[\"focus_area_combine\"][j])\n",
        "        seq_map[\"user\"].append(v[\"user\"][0][0])\n",
        "    new_pd = pd.DataFrame(data=seq_map)\n",
        "    return new_pd\n",
        "\n",
        "  def seq_slice(self, seq, seq_len):\n",
        "    l = []\n",
        "    num_split = max(len(seq) - seq_len, 0)\n",
        "    if num_split:\n",
        "      for i in range(num_split+1):\n",
        "        l.append(seq[i:seq_len+i])\n",
        "    else:\n",
        "      l.append(seq)\n",
        "    return l\n",
        "\n",
        "\n",
        "class movie_process(data_process): #child class for MovieLens data processing\n",
        "  def __init__(self, movie_data, rating_data):\n",
        "    super().__init__()\n",
        "    self.movie = movie_data\n",
        "    self.rating = rating_data\n",
        "    self.genres_list = None\n",
        "  \n",
        "  def genres_string_to_int(self, x): # obtain movie genres(similar to focus area)\n",
        "    fc = []\n",
        "    for genre in self.genres_list:\n",
        "      if genre in x:\n",
        "        fc.append(int(1))\n",
        "      else:\n",
        "        fc.append(int(-1))\n",
        "    return fc\n",
        "\n",
        "  def preprocess(self):\n",
        "    counts = Counter(self.rating[\"movieId\"])\n",
        "    movie_ids = np.array(counts.most_common(130))[:,0]\n",
        "\n",
        "    ind = self.rating[\"movieId\"].apply(lambda x: x in movie_ids)\n",
        "    new_r = self.rating[ind]\n",
        "    new_r = new_r.loc[new_r[\"rating\"]>=3]\n",
        "    np.unique(new_r[\"userId\"],return_counts=True)\n",
        "\n",
        "    new_r_joined = new_r.merge(self.movie[['movieId','title','genres']], on=\"movieId\", how='left')\n",
        "    new_r_joined['created_at'] = new_r_joined.timestamp.apply(lambda x: datetime.datetime.fromtimestamp(x))\n",
        "    new_r_joined.genres = new_r_joined.genres.apply(lambda x: x.split('|'))\n",
        "\n",
        "    out = []\n",
        "    for sublist in new_r_joined.genres:\n",
        "        out.extend(sublist)\n",
        "    self.genres_list = sorted(list(set(out)))\n",
        "    new_r_joined.genres = new_r_joined.genres.apply(lambda x: self.genres_string_to_int(x))\n",
        "\n",
        "    movie_df_sort = new_r_joined[['userId', 'title', 'genres', 'created_at']]\n",
        "    movie_df_sort.columns = ['user_id', 'activity_title', 'focus_area_combine', 'created_at']\n",
        "    movie_df_filt = movie_df_sort.sort_values(['user_id','created_at'], ascending=[True, True])\n",
        "    movie_df_filt.reset_index(drop=True, inplace=True)\n",
        "\n",
        "    #map activity title to integer\n",
        "    self.set_tokenizer(movie_df_filt)\n",
        "\n",
        "    movie_df_filt.drop_duplicates(subset=[\"user_id\", \"activity_title\"], keep=\"last\", inplace=True)\n",
        "    self.pre = movie_df_filt \n",
        "\n",
        "    return movie_df_filt "
      ],
      "metadata": {
        "id": "lRmADfAb4wTJ"
      },
      "execution_count": null,
      "outputs": []
    },
    {
      "cell_type": "markdown",
      "source": [
        "**Loading raw data**"
      ],
      "metadata": {
        "id": "QFGKOJvEwoj0"
      }
    },
    {
      "cell_type": "code",
      "source": [
        "r_data = pd.read_csv(\"Data/ratings.csv\")\n",
        "m_data = pd.read_csv(\"Data/movies.csv\")\n",
        "focus_raw = pd.read_json('focus_areas_en_US.json',encoding='utf-8-sig')\n",
        "koa_df_raw = pd.read_parquet('Data/lse21.parquet')"
      ],
      "metadata": {
        "id": "bLIANhTmws9v"
      },
      "execution_count": null,
      "outputs": []
    },
    {
      "cell_type": "markdown",
      "source": [
        "**Movielens data processing**"
      ],
      "metadata": {
        "id": "qlYZ-jvI3BIf"
      }
    },
    {
      "cell_type": "code",
      "source": [
        "obj_movie = movie_process(m_data, r_data)"
      ],
      "metadata": {
        "id": "J4J_DlJImlQM"
      },
      "execution_count": null,
      "outputs": []
    },
    {
      "cell_type": "code",
      "source": [
        "obj_movie.preprocess()"
      ],
      "metadata": {
        "id": "xX3Ew-e10Xrg"
      },
      "execution_count": null,
      "outputs": []
    },
    {
      "cell_type": "code",
      "source": [
        "obj_movie.process()"
      ],
      "metadata": {
        "id": "vMpq8lmzvHy2"
      },
      "execution_count": null,
      "outputs": []
    },
    {
      "cell_type": "code",
      "source": [
        "obj_movie.get_target()"
      ],
      "metadata": {
        "id": "MwJ8pwxr3uvy"
      },
      "execution_count": null,
      "outputs": []
    },
    {
      "cell_type": "markdown",
      "source": [
        "**Store and read the processed movielens data object**"
      ],
      "metadata": {
        "id": "DZjNTUCb5dp1"
      }
    },
    {
      "cell_type": "code",
      "source": [
        "obj_movie = movie_process(m_data, r_data)\n",
        "obj_movie.save(\"movie_pkl\")"
      ],
      "metadata": {
        "id": "5s5bG4E84p1R"
      },
      "execution_count": null,
      "outputs": []
    },
    {
      "cell_type": "code",
      "source": [
        "obj_movie = movie_process(1, 2)\n",
        "obj_movie.load(\"movie_pkl_2.5w\")"
      ],
      "metadata": {
        "id": "oJ_VarlS5AoG"
      },
      "execution_count": null,
      "outputs": []
    },
    {
      "cell_type": "code",
      "source": [
        "obj_movie.get_target()"
      ],
      "metadata": {
        "id": "F1cMDecn5utn"
      },
      "execution_count": null,
      "outputs": []
    },
    {
      "cell_type": "markdown",
      "source": [
        "**Koa data processing**"
      ],
      "metadata": {
        "id": "RtuOCwre1wmr"
      }
    },
    {
      "cell_type": "code",
      "source": [
        "obj_koa = koa_process(focus_raw, koa_df_raw)\n",
        "obj_koa.save(\"koa_pkl_sliced\", True) #set True to save the sliced data frame"
      ],
      "metadata": {
        "id": "F57tSyDQYeY6"
      },
      "execution_count": null,
      "outputs": []
    },
    {
      "cell_type": "code",
      "source": [
        "obj_koa = koa_process(focus_raw, koa_df_raw)\n",
        "obj_koa.load(\"koa_pkl\")"
      ],
      "metadata": {
        "id": "HatFjxuPnsDS"
      },
      "execution_count": null,
      "outputs": []
    },
    {
      "cell_type": "code",
      "source": [
        "obj_koa.label_smoothing(target_seq=True)"
      ],
      "metadata": {
        "id": "6smsuXOShaG2"
      },
      "execution_count": null,
      "outputs": []
    },
    {
      "cell_type": "code",
      "source": [
        "obj_koa.get_target()"
      ],
      "metadata": {
        "id": "y9vH9DhT7rMb"
      },
      "execution_count": null,
      "outputs": []
    },
    {
      "cell_type": "code",
      "source": [
        "obj_koa = koa_process(focus_raw, koa_df_raw)\n",
        "obj_koa.save(\"koa_pkl\") #default is False"
      ],
      "metadata": {
        "id": "3avVxlrJ2_2L"
      },
      "execution_count": null,
      "outputs": []
    },
    {
      "cell_type": "markdown",
      "source": [
        "## 1.2 Prepare for NLP models"
      ],
      "metadata": {
        "id": "43tQcxPtD2iT"
      }
    },
    {
      "cell_type": "code",
      "source": [
        "class RNN_prepare(): #the class to prepare data such that it can be fed into neural network and RNN-based network.\n",
        "  def __init__(self, df_rnn):\n",
        "    self.df_rnn = df_rnn #this should be the data frame with targets. e.g,after using get_target() or label_smoothing() function.\n",
        "    self.maxlen = df_rnn[\"actId_sequence\"].apply(lambda x: len(x)).max()\n",
        "    self.target = np.array(df_rnn['target'].tolist())\n",
        "    self.dataset = {}\n",
        "\n",
        "  def pad(self): #pad inputs\n",
        "    act_inputs = self.df_rnn['actId_sequence'].tolist()\n",
        "    nd_input = self.df_rnn['time_dif'].tolist()\n",
        "    focus_inputs = self.df_rnn['focus_area_combine'].tolist()\n",
        "\n",
        "    act_inputs_padded = tf.keras.preprocessing.sequence.pad_sequences(act_inputs, padding=\"pre\", maxlen = self.maxlen)\n",
        "    nd_inputs_padded = tf.keras.preprocessing.sequence.pad_sequences(nd_input, padding=\"pre\", maxlen = self.maxlen)\n",
        "    focus_inputs_padded = tf.keras.preprocessing.sequence.pad_sequences(focus_inputs, padding=\"pre\", maxlen = self.maxlen)\n",
        "    self.dataset[\"act_id\"] = act_inputs_padded\n",
        "    self.dataset[\"time_dif\"] = nd_inputs_padded\n",
        "    self.dataset[\"focus_area\"] = focus_inputs_padded\n",
        "\n",
        "  def cross_split(self, kfold): #train/test split for 5-fold cross evaluation\n",
        "    self.pad() #run padding function\n",
        "    act_inputs_padded = self.dataset[\"act_id\"]\n",
        "    nd_inputs_padded = self.dataset[\"time_dif\"]\n",
        "    focus_inputs_padded = self.dataset[\"focus_area\"]\n",
        "    num_samples = act_inputs_padded.shape[0]\n",
        "\n",
        "    num_eachfold = np.floor(num_samples/5)\n",
        "\n",
        "    hold_ind = np.arange((kfold-1)*num_eachfold, kfold*num_eachfold).astype(int)\n",
        "    train_ind = np.array(list( set(np.arange(num_samples)) - set(hold_ind) ) )\n",
        "    val_ind, test_ind = model_selection.train_test_split(hold_ind, test_size=0.5)\n",
        "    target_train = self.target[train_ind]\n",
        "    target_val = self.target[val_ind]\n",
        "    target_test = self.target[test_ind]\n",
        "\n",
        "    train_dict = {'act_id': act_inputs_padded[train_ind],\n",
        "              'time_dif': nd_inputs_padded[train_ind],\n",
        "              'focus_area': focus_inputs_padded[train_ind]}\n",
        "    train_set = tf.data.Dataset.from_tensor_slices((train_dict, target_train))\n",
        "\n",
        "    val_dict = {'act_id': act_inputs_padded[val_ind],\n",
        "              'time_dif': nd_inputs_padded[val_ind],\n",
        "              'focus_area': focus_inputs_padded[val_ind]}\n",
        "    val_set = tf.data.Dataset.from_tensor_slices((val_dict, target_val))\n",
        "\n",
        "    test_dict = {'act_id': act_inputs_padded[test_ind],\n",
        "              'time_dif': nd_inputs_padded[test_ind],\n",
        "              'focus_area': focus_inputs_padded[test_ind]}\n",
        "    test_set = tf.data.Dataset.from_tensor_slices((test_dict, target_test))\n",
        "    return train_set, val_set, test_set, target_test\n",
        "\n",
        "  def random_split(self):#random split by 0.8/0.1/0.1\n",
        "    self.pad()\n",
        "    act_inputs_padded = self.dataset[\"act_id\"]\n",
        "    nd_inputs_padded = self.dataset[\"time_dif\"]\n",
        "    focus_inputs_padded = self.dataset[\"focus_area\"]\n",
        "    num_samples = act_inputs_padded.shape[0]\n",
        "\n",
        "    train_ind, hold_ind = model_selection.train_test_split(np.arange(num_samples), test_size=0.2)\n",
        "    val_ind, test_ind =  model_selection.train_test_split(hold_ind, test_size=0.5)\n",
        "\n",
        "    target_train = self.target[train_ind]\n",
        "    target_val = self.target[val_ind]\n",
        "    target_test = self.target[test_ind]\n",
        "\n",
        "    train_dict = {'act_id': act_inputs_padded[train_ind],\n",
        "              'time_dif': nd_inputs_padded[train_ind],\n",
        "              'focus_area': focus_inputs_padded[train_ind]}\n",
        "    train_set = tf.data.Dataset.from_tensor_slices((train_dict, target_train))\n",
        "\n",
        "    val_dict = {'act_id': act_inputs_padded[val_ind],\n",
        "              'time_dif': nd_inputs_padded[val_ind],\n",
        "              'focus_area': focus_inputs_padded[val_ind]}\n",
        "    val_set = tf.data.Dataset.from_tensor_slices((val_dict, target_val))\n",
        "\n",
        "    test_dict = {'act_id': act_inputs_padded[test_ind],\n",
        "              'time_dif': nd_inputs_padded[test_ind],\n",
        "              'focus_area': focus_inputs_padded[test_ind]}\n",
        "    test_set = tf.data.Dataset.from_tensor_slices((test_dict, target_test))\n",
        "    return train_set, val_set, test_set, target_test"
      ],
      "metadata": {
        "id": "qGWHqqnE2Sdd"
      },
      "execution_count": null,
      "outputs": []
    },
    {
      "cell_type": "markdown",
      "source": [
        "# 2 Embedding layer"
      ],
      "metadata": {
        "id": "FNvKzyJWdpew"
      }
    },
    {
      "cell_type": "code",
      "source": [
        "class Embedding(): #super class for three child embedding classes\n",
        "  def __init__(self, obj):\n",
        "    self.obj = obj #the data_process class object\n",
        "    self.emb_matrix = None\n",
        "    self.title2vec = None\n",
        "    self.tokenizer = None\n",
        "    self.model = None\n",
        "    self.seq_list = None\n",
        "\n",
        "  def set_obj(self): # set up object\n",
        "    if self.obj.pro is None:\n",
        "      self.seq_list = list(self.obj.process().activity_sequence)\n",
        "    else:\n",
        "      self.seq_list = self.obj.pro\n",
        "      \n",
        "    self.tokenizer = self.obj.act2id\n",
        "    self.id2act = self.obj.id2act\n",
        "    self.act_list = self.obj.act2id.keys()\n",
        "\n",
        "  def build_matrix(self): #build embedding weights matrix\n",
        "    if self.model is None:\n",
        "      self.model_opt()\n",
        "\n",
        "    if self.emb_matrix is not None:\n",
        "      self.emb_matrix = np.vstack(( np.zeros((1, self.emb_matrix.shape[1])), self.emb_matrix))\n",
        "    matrix = []\n",
        "    for act in self.act_list:\n",
        "      vec = self.encode(act)\n",
        "      matrix.append(vec)\n",
        "    matrix = np.array(matrix)\n",
        "    self.emb_matrix = np.vstack(( np.zeros((1, matrix.shape[1])), matrix))\n",
        "\n",
        "  def build_t2v(self): #convert activity title to embedding vector, store this mapping to save computation.\n",
        "    if self.model is None:\n",
        "      self.model_opt()\n",
        "    \n",
        "    title2vec = {}\n",
        "    for act in self.act_list:\n",
        "      vec = self.encode(act)\n",
        "      title2vec[act] = vec\n",
        "    self.title2vec = title2vec\n",
        "\n",
        "  def save(self, file):#save the corresponding embedding  \n",
        "    if self.emb_matrix is None:\n",
        "      self.build_matrix()\n",
        "    \n",
        "    if self.title2vec is None:\n",
        "      self.build_t2v()\n",
        "\n",
        "    obj = {\"emb_matrix\": self.emb_matrix,\n",
        "           \"title2vec\": self.title2vec}\n",
        "    pickle_out = open(\"Pre_trained/\"+file,\"wb\")\n",
        "    pickle.dump(obj, pickle_out)\n",
        "    pickle_out.close()\n",
        "  \n",
        "  def load(self, file): #load the corresponding embedding \n",
        "    pickle_in = open(\"Pre_trained/\"+file,\"rb\")\n",
        "    obj = pickle.load(pickle_in)\n",
        "    self.emb_matrix = obj[\"emb_matrix\"]\n",
        "    self.title2vec = obj[\"title2vec\"]\n",
        "\n",
        "  def model_opt(self):\n",
        "    pass\n",
        "  \n",
        "  def encode(self):\n",
        "    pass\n",
        "\n",
        "class Doc2Vec(Embedding): #child class for Doc2Vec embedding\n",
        "  def __init__(self, obj, model):\n",
        "    super().__init__(obj)\n",
        "    self.model_sub = model #the pretrained model\n",
        "\n",
        "  def model_opt(self):\n",
        "    if self.tokenizer is None:\n",
        "      self.set_obj()\n",
        "    self.model = self.model_sub\n",
        "\n",
        "  def encode(self, activity):\n",
        "    if self.model is None:\n",
        "      self.model_opt()\n",
        "    return self.model.infer_vector(activity)\n",
        "\n",
        "class SBERT(Embedding):#child class for SBERT embedding \n",
        "  def __init__(self, obj, model_list):\n",
        "    super().__init__(obj)\n",
        "    self.model_list = model_list #SBERT models to be compared\n",
        "  \n",
        "  def emb_loss(self, model, act_appeared): #loss function used to compare SBERT embeddings\n",
        "    loss = 0\n",
        "    emb_matrix = []\n",
        "    for act in act_appeared:\n",
        "      emb_matrix.append(model.encode(act))\n",
        "    emb_matrix = np.array(emb_matrix)\n",
        "\n",
        "    for i in range(emb_matrix.shape[0]):\n",
        "      dot_prod_sim = np.matmul(emb_matrix[i], np.transpose(np.delete(emb_matrix, i, axis=0)))\n",
        "      top_10_idx = np.argsort(dot_prod_sim)[-10:]\n",
        "      for idx in top_10_idx:\n",
        "        loss += np.linalg.norm(np.array(self.id2act[idx+1][1]) - np.array(self.id2act[i+1][1]))\n",
        "    return loss, emb_matrix\n",
        "\n",
        "  def model_opt(self):# choose the best SBERT embedding\n",
        "    if self.tokenizer is None:\n",
        "      self.set_obj()\n",
        "    \n",
        "    best_loss = float(\"inf\")\n",
        "\n",
        "    for model in self.model_list:\n",
        "      current_loss, matrix = self.emb_loss(model, self.act_list)\n",
        "      if current_loss < best_loss:\n",
        "        self.model = model\n",
        "        self.emb_matrix = matrix\n",
        "        self.emb_size = matrix.shape[1]\n",
        "        best_loss = current_loss\n",
        "    \n",
        "  def encode(self, activity):\n",
        "    if self.model is None:\n",
        "      self.model_opt()\n",
        "    return self.model.encode(activity)\n",
        "\n",
        "class Act2Vec(Embedding):#child class for Act2Vec embedding\n",
        "  def __init__(self, obj, batch_words=30):\n",
        "    super().__init__(obj)\n",
        "    self.batch_words = batch_words #word2vec training argument\n",
        "\n",
        "  def model_opt(self):#choose the best Act2Vec embedding dimension \n",
        "    if self.tokenizer is None:\n",
        "      self.set_obj()\n",
        "\n",
        "    emb_sizes = 2**np.arange(1,10)\n",
        "    best_loss = float(\"inf\")\n",
        "\n",
        "    for emb_size in emb_sizes[1:]:\n",
        "      avg_loss = []\n",
        "      for i in range(10):\n",
        "        model = Word2Vec(self.seq_list, size=emb_size, window=2, negative=4, min_count=1, batch_words=self.batch_words)\n",
        "        avg_loss.append(self.emb_loss(model, self.act_list))\n",
        "      current_loss = np.mean(avg_loss)\n",
        "      if current_loss < best_loss:\n",
        "        self.model = model\n",
        "        self.emb_size = emb_size\n",
        "        best_loss = current_loss\n",
        "  \n",
        "  def emb_loss(self, model, act_appeared):#loss function for different embedding dimensions\n",
        "    loss = 0\n",
        "    for act in act_appeared:\n",
        "      sim_10 = model.wv.most_similar(positive=act)\n",
        "      for i in sim_10:\n",
        "        text = i[0]\n",
        "        loss += np.linalg.norm(np.array(self.tokenizer[act][1]) - np.array(self.tokenizer[text][1]) )\n",
        "    return loss\n",
        "\n",
        "  def encode(self, activity):\n",
        "    if self.model is None:\n",
        "      self.model_opt()\n",
        "    return self.model.wv[activity]"
      ],
      "metadata": {
        "id": "0pNYSDpEiBZf"
      },
      "execution_count": null,
      "outputs": []
    },
    {
      "cell_type": "markdown",
      "source": [
        "## 2.1 Self-trained Act2vec"
      ],
      "metadata": {
        "id": "62jx8GZ1a0b_"
      }
    },
    {
      "cell_type": "code",
      "source": [
        "obj_koa = koa_process(focus_raw, koa_df_raw)\n",
        "obj_Act2Vec = Act2Vec(obj_koa)"
      ],
      "metadata": {
        "id": "SavfdSBAlIla"
      },
      "execution_count": null,
      "outputs": []
    },
    {
      "cell_type": "code",
      "source": [
        "obj_Act2Vec.build_matrix()"
      ],
      "metadata": {
        "id": "OMjfYxTNa6Ng"
      },
      "execution_count": null,
      "outputs": []
    },
    {
      "cell_type": "code",
      "source": [
        "obj_Act2Vec.build_t2v()"
      ],
      "metadata": {
        "id": "jLVtovLvFPWT"
      },
      "execution_count": null,
      "outputs": []
    },
    {
      "cell_type": "code",
      "source": [
        "obj_Act2Vec.emb_matrix"
      ],
      "metadata": {
        "id": "n70tW_CkNpxd",
        "colab": {
          "base_uri": "https://localhost:8080/"
        },
        "outputId": "f53e973f-8685-4607-8b08-07e34c591429"
      },
      "execution_count": null,
      "outputs": [
        {
          "output_type": "execute_result",
          "data": {
            "text/plain": [
              "array([[ 0.        ,  0.        ,  0.        , ...,  0.        ,\n",
              "         0.        ,  0.        ],\n",
              "       [ 0.00121335, -0.01179544,  0.0066008 , ...,  0.01090964,\n",
              "         0.00875171, -0.00902294],\n",
              "       [-0.01489708,  0.01353789,  0.01389517, ...,  0.00362536,\n",
              "        -0.00832709, -0.01225774],\n",
              "       ...,\n",
              "       [-0.01453649,  0.00802768, -0.00895953, ..., -0.00757337,\n",
              "         0.01587437,  0.0012947 ],\n",
              "       [-0.00249845, -0.00380208,  0.01461971, ...,  0.00042108,\n",
              "        -0.005129  ,  0.00763279],\n",
              "       [ 0.00230336, -0.00829121, -0.01215704, ..., -0.00297776,\n",
              "         0.0033068 ,  0.00821085]])"
            ]
          },
          "metadata": {},
          "execution_count": 32
        }
      ]
    },
    {
      "cell_type": "code",
      "source": [
        "obj_Act2Vec.title2vec"
      ],
      "metadata": {
        "id": "ZbDKc8qv9QyF"
      },
      "execution_count": null,
      "outputs": []
    },
    {
      "cell_type": "markdown",
      "source": [
        "**Save and load**"
      ],
      "metadata": {
        "id": "p8LxSwdlGROM"
      }
    },
    {
      "cell_type": "code",
      "source": [
        "obj_koa = koa_process(focus_raw, koa_df_raw)\n",
        "obj_movie = movie_process(m_data, r_data)\n",
        "koa_Act2Vec = Act2Vec(obj_koa)\n",
        "movie_Act2Vec = Act2Vec(obj_movie, 10000)\n",
        "koa_Act2Vec.save(\"koa_Act2Vec\")\n",
        "movie_Act2Vec.save(\"movie_Act2Vec\")"
      ],
      "metadata": {
        "id": "th_ULx1Kt-Er"
      },
      "execution_count": null,
      "outputs": []
    },
    {
      "cell_type": "code",
      "source": [
        "koa_Act2Vec = Act2Vec(obj_koa)\n",
        "movie_Act2Vec = Act2Vec(obj_movie)\n",
        "koa_Act2Vec.load(\"koa_Act2Vec\")\n",
        "movie_Act2Vec.load(\"movie_Act2Vec\")"
      ],
      "metadata": {
        "id": "NYgE7kIRG9N1"
      },
      "execution_count": null,
      "outputs": []
    },
    {
      "cell_type": "code",
      "source": [
        "koa_Act2Vec.emb_matrix.shape"
      ],
      "metadata": {
        "colab": {
          "base_uri": "https://localhost:8080/"
        },
        "id": "5iwkCeDrHlt5",
        "outputId": "7fe50ddb-bcc7-4be5-e91b-deb9015b8992"
      },
      "execution_count": null,
      "outputs": [
        {
          "output_type": "execute_result",
          "data": {
            "text/plain": [
              "(131, 4)"
            ]
          },
          "metadata": {},
          "execution_count": 123
        }
      ]
    },
    {
      "cell_type": "code",
      "source": [
        "pretrained_weights_matrix = movie_Act2Vec.emb_matrix"
      ],
      "metadata": {
        "id": "kjaUOebCHpRq"
      },
      "execution_count": null,
      "outputs": []
    },
    {
      "cell_type": "code",
      "source": [
        "vocab_size, embedding_size = pretrained_weights_matrix.shape"
      ],
      "metadata": {
        "id": "EpAu1qWw8ofk"
      },
      "execution_count": null,
      "outputs": []
    },
    {
      "cell_type": "markdown",
      "source": [
        "## 2.2 Pre-trained Doc2vec"
      ],
      "metadata": {
        "id": "WXylS_2p6b3G"
      }
    },
    {
      "cell_type": "markdown",
      "source": [
        "**Save**"
      ],
      "metadata": {
        "id": "kyP8qPObQYJh"
      }
    },
    {
      "cell_type": "code",
      "source": [
        "D2V_model = doc2vec.Doc2Vec.load(\"Pre_trained/doc2vec.bin\")\n",
        "koa_Doc2Vec = Doc2Vec(obj_koa, D2V_model)\n",
        "movie_Doc2Vec = Doc2Vec(obj_movie, D2V_model)\n",
        "koa_Doc2Vec.save(\"koa_Doc2Vec\")\n",
        "movie_Doc2Vec.save(\"movie_Doc2Vec\")"
      ],
      "metadata": {
        "id": "PBmRJqR7XjJZ"
      },
      "execution_count": null,
      "outputs": []
    },
    {
      "cell_type": "markdown",
      "source": [
        "**Load**"
      ],
      "metadata": {
        "id": "vZYh_QGyQqgf"
      }
    },
    {
      "cell_type": "code",
      "source": [
        "koa_Doc2Vec = Doc2Vec(obj_koa, D2V_model)\n",
        "movie_Doc2Vec = Doc2Vec(obj_movie, D2V_model)\n",
        "koa_Doc2Vec.load(\"koa_Doc2Vec\")\n",
        "movie_Doc2Vec.load(\"movie_Doc2Vec\")"
      ],
      "metadata": {
        "id": "NUBxKnnCOHF_"
      },
      "execution_count": null,
      "outputs": []
    },
    {
      "cell_type": "markdown",
      "source": [
        "## 2.3 Pre-trained Sentence BERT"
      ],
      "metadata": {
        "id": "PF7fu0sS6gUg"
      }
    },
    {
      "cell_type": "code",
      "source": [
        "pip install -U sentence-transformers"
      ],
      "metadata": {
        "id": "aK_n37MaSvrz"
      },
      "execution_count": null,
      "outputs": []
    },
    {
      "cell_type": "code",
      "source": [
        "from sentence_transformers import SentenceTransformer\n",
        "model1 = SentenceTransformer('sentence-transformers/bert-base-nli-mean-tokens')\n",
        "model2 = SentenceTransformer('sentence-transformers/average_word_embeddings_glove.6B.300d')"
      ],
      "metadata": {
        "id": "a7n8XOjQi71J"
      },
      "execution_count": null,
      "outputs": []
    },
    {
      "cell_type": "markdown",
      "source": [
        "**Save**"
      ],
      "metadata": {
        "id": "4H93BgxfSPpM"
      }
    },
    {
      "cell_type": "code",
      "source": [
        "model_list = [model1, model2]\n",
        "koa_SBERT = SBERT(obj_koa, model_list)\n",
        "movie_SBERT = SBERT(obj_movie, model_list)\n",
        "koa_SBERT.save(\"koa_SBERT\")\n",
        "movie_SBERT.save(\"movie_SBERT\")"
      ],
      "metadata": {
        "id": "jvm37yClSS2C"
      },
      "execution_count": null,
      "outputs": []
    },
    {
      "cell_type": "markdown",
      "source": [
        "**Load**"
      ],
      "metadata": {
        "id": "5sorL2UOSRbz"
      }
    },
    {
      "cell_type": "code",
      "source": [
        "model_list = [model1, model2]\n",
        "koa_SBERT = SBERT(obj_koa, model_list)\n",
        "movie_SBERT = SBERT(obj_movie, model_list)\n",
        "koa_SBERT.load(\"koa_SBERT\")\n",
        "movie_SBERT.load(\"movie_SBERT\")"
      ],
      "metadata": {
        "id": "RC5hTYM_RvLj"
      },
      "execution_count": null,
      "outputs": []
    },
    {
      "cell_type": "code",
      "source": [
        "koa_SBERT.emb_matrix.shape"
      ],
      "metadata": {
        "id": "fqTLHNhBV-LF",
        "colab": {
          "base_uri": "https://localhost:8080/"
        },
        "outputId": "f6abe6a5-6517-482d-d34c-4317707ffc0d"
      },
      "execution_count": null,
      "outputs": [
        {
          "output_type": "execute_result",
          "data": {
            "text/plain": [
              "(131, 768)"
            ]
          },
          "metadata": {},
          "execution_count": 45
        }
      ]
    },
    {
      "cell_type": "code",
      "source": [
        "movie_SBERT.emb_matrix.shape"
      ],
      "metadata": {
        "colab": {
          "base_uri": "https://localhost:8080/"
        },
        "id": "04cn62SGVviI",
        "outputId": "990ca13e-c92d-49f2-9aa2-a86c4fcb4ee8"
      },
      "execution_count": null,
      "outputs": [
        {
          "output_type": "execute_result",
          "data": {
            "text/plain": [
              "(131, 768)"
            ]
          },
          "metadata": {},
          "execution_count": 46
        }
      ]
    },
    {
      "cell_type": "markdown",
      "source": [
        "# 3 Models"
      ],
      "metadata": {
        "id": "kS5j4sakel_n"
      }
    },
    {
      "cell_type": "markdown",
      "source": [
        "##3.1 RNN"
      ],
      "metadata": {
        "id": "178afUiOv19a"
      }
    },
    {
      "cell_type": "code",
      "source": [
        "class Model_LSTM(keras.layers.Layer): #LSTM model\n",
        "  def __init__(self, dim, reg, Bidirection=False):\n",
        "    super().__init__()\n",
        "    if Bidirection:\n",
        "      self.lstm = keras.layers.Bidirectional(keras.layers.LSTM(dim, return_sequences=True, stateful=False, recurrent_regularizer = reg))\n",
        "    else:\n",
        "      self.lstm = keras.layers.LSTM(dim, return_sequences=True, stateful=False, recurrent_regularizer = reg)\n",
        "  def call(self,input):\n",
        "    return self.lstm(input)"
      ],
      "metadata": {
        "id": "7LJn6PAgfs9s"
      },
      "execution_count": null,
      "outputs": []
    },
    {
      "cell_type": "code",
      "source": [
        "class Model_GRU(keras.layers.Layer): #GRU model\n",
        "  def __init__(self, dim, reg, Bidirection=False):\n",
        "    super().__init__()\n",
        "    if Bidirection:\n",
        "      self.gru = keras.layers.Bidirectional(keras.layers.GRU(dim, return_sequences=True, stateful=False, recurrent_regularizer = reg))\n",
        "    else:\n",
        "      self.gru = keras.layers.GRU(dim, return_sequences=True, stateful=False, recurrent_regularizer = reg)\n",
        "  def call(self,input):\n",
        "    return self.gru(input)"
      ],
      "metadata": {
        "id": "ARUmXdrB96G8"
      },
      "execution_count": null,
      "outputs": []
    },
    {
      "cell_type": "markdown",
      "source": [
        "## 3.3 Transformer"
      ],
      "metadata": {
        "id": "y7868TLRvx0w"
      }
    },
    {
      "cell_type": "code",
      "source": [
        "def get_angles(pos, i, d_model):\n",
        "  angle_rates = 1 / np.power(10000, (2 * (i//2)) / np.float32(d_model))\n",
        "  return pos * angle_rates\n",
        "\n",
        "def positional_encoding(position, d_model, batch_size):\n",
        "  angle_rads = get_angles(np.arange(position)[:, np.newaxis],\n",
        "                          np.arange(d_model)[np.newaxis, :],\n",
        "                          d_model)\n",
        "\n",
        "  # apply sin to even indices in the array; 2i\n",
        "  angle_rads[:, 0::2] = np.sin(angle_rads[:, 0::2])\n",
        "\n",
        "  # apply cos to odd indices in the array; 2i+1\n",
        "  angle_rads[:, 1::2] = np.cos(angle_rads[:, 1::2])\n",
        "\n",
        "  d0 = angle_rads.shape[0] #the length of the sequence\n",
        "  d1 = angle_rads.shape[1] #the dimension of the embedding \n",
        "  pos_encoding = tf.broadcast_to(angle_rads, (batch_size, d0, d1))\n",
        "\n",
        "  return tf.cast(pos_encoding, dtype=tf.float32)\n",
        "\n",
        "def get_padding_mask(seq_k, seq_q):\n",
        "    # Expand to fit the shape of key query attention matrix.\n",
        "    seq_k = tf.reduce_sum(seq_k, axis=2)\n",
        "    seq_q = tf.reduce_sum(seq_q, axis=2)\n",
        "    len_q = seq_q.shape[1]\n",
        "    k1 = seq_k.shape[0] #batch size\n",
        "    k2 = seq_k.shape[1] #seq length\n",
        "    padding_mask = tf.cast(tf.math.equal(seq_k, 0), tf.float32)\n",
        "    padding_mask = tf.broadcast_to(padding_mask[:,np.newaxis, np.newaxis,:], (k1, 2, len_q, k2))\n",
        "    return padding_mask\n",
        "\n",
        "def create_padding_mask(seq, num_heads):\n",
        "  seq = tf.cast(tf.math.equal(seq, 0), tf.float32)\n",
        "  d1 = seq.shape[0]\n",
        "  d2 = seq.shape[1]\n",
        "  padding_mask = tf.broadcast_to(seq[:, np.newaxis,np.newaxis,:], (d1, num_heads, d2,d2))\n",
        "  return padding_mask\n",
        "\n",
        "def scaled_dot_product_attention(q, k, v, mask):\n",
        "  matmul_qk = tf.matmul(q, k, transpose_b=True)  # (..., seq_len_q, seq_len_k)\n",
        "\n",
        "  # scale matmul_qk\n",
        "  dk = tf.cast(tf.shape(k)[-1], tf.float32)\n",
        "  scaled_attention_logits = matmul_qk / tf.math.sqrt(dk)\n",
        "\n",
        "  # add the mask to the scaled tensor.\n",
        "  scaled_attention_logits += (mask * -1e9)\n",
        "\n",
        "  # softmax is normalized on the last axis (seq_len_k) so that the scores\n",
        "  # add up to 1.\n",
        "  attention_weights = tf.nn.softmax(scaled_attention_logits, axis=-1)  # (..., seq_len_q, seq_len_k)\n",
        "\n",
        "  output = tf.matmul(attention_weights, v)  # (..., seq_len_q, depth_v)\n",
        "\n",
        "  return output, attention_weights\n",
        "\n",
        "class MultiHeadAttention(tf.keras.layers.Layer):\n",
        "  def __init__(self,*, d_model, num_heads):\n",
        "    super(MultiHeadAttention, self).__init__()\n",
        "    self.num_heads = num_heads\n",
        "    self.d_model = d_model\n",
        "\n",
        "    assert d_model % self.num_heads == 0\n",
        "\n",
        "    self.depth = d_model // self.num_heads\n",
        "\n",
        "    self.wq = tf.keras.layers.Dense(d_model)\n",
        "    self.wk = tf.keras.layers.Dense(d_model)\n",
        "    self.wv = tf.keras.layers.Dense(d_model)\n",
        "\n",
        "    self.dense = tf.keras.layers.Dense(d_model)\n",
        "\n",
        "  def split_heads(self, x, batch_size):\n",
        "    #Split the last dimension into (num_heads, depth)\n",
        "    x = tf.reshape(x, (batch_size, -1, self.num_heads, self.depth))\n",
        "    return tf.transpose(x, perm=[0, 2, 1, 3])\n",
        "\n",
        "  def call(self, v, k, q, mask):\n",
        "    batch_size = tf.shape(q)[0]\n",
        "\n",
        "    q = self.wq(q)  # (batch_size, seq_len, d_model)\n",
        "    k = self.wk(k)  # (batch_size, seq_len, d_model)\n",
        "    v = self.wv(v)  # (batch_size, seq_len, d_model)\n",
        "\n",
        "    q = self.split_heads(q, batch_size)  # (batch_size, num_heads, seq_len_q, depth)\n",
        "    k = self.split_heads(k, batch_size)  # (batch_size, num_heads, seq_len_k, depth)\n",
        "    v = self.split_heads(v, batch_size)  # (batch_size, num_heads, seq_len_v, depth)\n",
        "\n",
        "    # scaled_attention.shape == (batch_size, num_heads, seq_len_q, depth)\n",
        "    # attention_weights.shape == (batch_size, num_heads, seq_len_q, seq_len_k)\n",
        "    scaled_attention, attention_weights = scaled_dot_product_attention(\n",
        "        q, k, v, mask)\n",
        "\n",
        "    scaled_attention = tf.transpose(scaled_attention, perm=[0, 2, 1, 3])  # (batch_size, seq_len_q, num_heads, depth)\n",
        "\n",
        "    concat_attention = tf.reshape(scaled_attention,\n",
        "                                  (batch_size, -1, self.d_model))  # (batch_size, seq_len_q, d_model)\n",
        "\n",
        "    output = self.dense(concat_attention)  # (batch_size, seq_len_q, d_model)\n",
        "\n",
        "\n",
        "    return output, attention_weights\n",
        "\n",
        "def point_wise_feed_forward_network(d_model, dff):\n",
        "  return tf.keras.Sequential([\n",
        "      tf.keras.layers.Dense(dff, activation='relu'),  # (batch_size, seq_len, dff)\n",
        "      tf.keras.layers.Dense(d_model)  # (batch_size, seq_len, d_model)\n",
        "  ])\n",
        "\n",
        "class EncoderLayer(tf.keras.layers.Layer):\n",
        "  def __init__(self,*, d_model, num_heads, dff, rate=0.1):\n",
        "    super(EncoderLayer, self).__init__()\n",
        "\n",
        "    self.mha = MultiHeadAttention(d_model=d_model, num_heads=num_heads)\n",
        "    self.ffn = point_wise_feed_forward_network(d_model, dff)\n",
        "\n",
        "    self.layernorm1 = tf.keras.layers.LayerNormalization(epsilon=1e-6)\n",
        "    self.layernorm2 = tf.keras.layers.LayerNormalization(epsilon=1e-6)\n",
        "\n",
        "    self.dropout1 = tf.keras.layers.Dropout(rate)\n",
        "    self.dropout2 = tf.keras.layers.Dropout(rate)\n",
        "\n",
        "  def call(self, x, training, mask):\n",
        "\n",
        "    attn_output, _ = self.mha(x, x, x, mask)  # (batch_size, input_seq_len, d_model)\n",
        "    attn_output = self.dropout1(attn_output, training=training)\n",
        "    out1 = self.layernorm1(x + attn_output)  # (batch_size, input_seq_len, d_model)\n",
        "\n",
        "    ffn_output = self.ffn(out1)  # (batch_size, input_seq_len, d_model)\n",
        "    ffn_output = self.dropout2(ffn_output, training=training)\n",
        "    out2 = self.layernorm2(out1 + ffn_output)  # (batch_size, input_seq_len, d_model)\n",
        "\n",
        "    return out2\n",
        "  \n",
        "class transformer_enc(tf.keras.layers.Layer):\n",
        "  def __init__(self,*, batch_size, num_layers, d_model, num_heads, dff, seq_length, rate=0.1):\n",
        "    super().__init__()\n",
        "\n",
        "    self.d_model = d_model\n",
        "    self.num_layers = num_layers\n",
        "    self.seq_len = seq_length\n",
        "    self.bs = batch_size\n",
        "\n",
        "    self.pos_encoding = positional_encoding(seq_length, self.d_model, batch_size)\n",
        "\n",
        "    self.enc_layers = [\n",
        "        EncoderLayer(d_model=d_model, num_heads=num_heads, dff=dff, rate=rate)\n",
        "        for _ in range(num_layers)]\n",
        "\n",
        "    self.dropout = tf.keras.layers.Dropout(rate)\n",
        "\n",
        "  def call(self, x, training, mask):\n",
        "    #input here is already the output from embedding layer \n",
        "    x *= tf.math.sqrt(tf.cast(self.d_model, tf.float32))\n",
        "    x += self.pos_encoding[:, :self.seq_len, :]\n",
        "\n",
        "    x = self.dropout(x, training=training)\n",
        "    \n",
        "    for i in range(self.num_layers):\n",
        "      x = self.enc_layers[i](x, training, mask)\n",
        "\n",
        "    return x "
      ],
      "metadata": {
        "id": "sJo-ev_xv0O7"
      },
      "execution_count": null,
      "outputs": []
    },
    {
      "cell_type": "markdown",
      "source": [
        "#4.Training and evaluation"
      ],
      "metadata": {
        "id": "RjGiVk3DNJuq"
      }
    },
    {
      "cell_type": "code",
      "source": [
        "class Train_model(): #class for model building, training and testing\n",
        "  def __init__(self, seq_len=11): #the maximum sequence length, change it will invoke data_process()\n",
        "    self.data = None\n",
        "    self.seq_len = seq_len\n",
        "    self.emb = None\n",
        "\n",
        "  def get_dataset(self, dataset):#load the processed dataset\n",
        "    self.data = data_process(self.seq_len)\n",
        "    self.data.load(dataset)\n",
        "  \n",
        "  def get_embedding(self, embedding, dataset=\"koa_pkl\"):#build embedding weights matrix and embedding mapping\n",
        "    if self.data is None:\n",
        "      self.get_dataset(dataset)#if dataset is not loaded, load it here, do not need to call get_dataset\n",
        "    \n",
        "    if self.emb is None:\n",
        "      self.emb = Embedding(self.data)\n",
        "      self.emb.load(embedding)\n",
        "    self.emb_matrix = self.emb.emb_matrix\n",
        "    self.vocab_size, self.emb_size = self.emb_matrix.shape\n",
        "  \n",
        "  def loss_1(self, real, pred):#categorical cross entropy for one-hot type target\n",
        "    mask = tf.math.logical_not(tf.math.equal(real, 0))\n",
        "    loss_f = tf.keras.losses.CategoricalCrossentropy(from_logits=True, label_smoothing=self.smoothing)\n",
        "    loss = loss_f(real, pred)\n",
        "    mask = tf.cast(mask, dtype=loss.dtype)\n",
        "    loss *= mask\n",
        "    return tf.reduce_mean(loss)\n",
        "\n",
        "  def loss_2(self, real, pred):#sparse categorical cross entropy for single integer type target\n",
        "    mask = tf.math.logical_not(tf.math.equal(real, 0))\n",
        "    loss_f = tf.keras.losses.SparseCategoricalCrossentropy(from_logits=True)\n",
        "    loss = loss_f(real, pred)\n",
        "    mask = tf.cast(mask, dtype=loss.dtype)\n",
        "    loss *= mask\n",
        "    return tf.reduce_mean(loss)\n",
        "  \n",
        "  def data_prepare(self, batch_size, dataset=\"koa_pkl\", smoothing=0., kfold=0): #prepare data for NLP task\n",
        "    if self.data is None:\n",
        "      self.get_dataset(dataset)\n",
        "    if smoothing:\n",
        "      rnn_obj = RNN_prepare(self.data.label_smoothing())\n",
        "    else:\n",
        "      rnn_obj = RNN_prepare(self.data.get_target())\n",
        "    self.smoothing = smoothing\n",
        "\n",
        "    if kfold:\n",
        "      train_set, val_set, test_set, target_test = rnn_obj.cross_split(kfold)\n",
        "    else:\n",
        "      train_set, val_set, test_set, target_test = rnn_obj.random_split()\n",
        "\n",
        "    self.batch_size = batch_size\n",
        "    buffer_size = len(train_set)//batch_size\n",
        "    self.steps = len(train_set) // batch_size\n",
        "\n",
        "    self.train_dataset = train_set.shuffle(buffer_size).batch(batch_size, drop_remainder = True)\n",
        "    self.val_dataset = val_set.shuffle(buffer_size).batch(batch_size, drop_remainder = True)\n",
        "\n",
        "    self.test_set = test_set\n",
        "    self.target_test = target_test\n",
        "  \n",
        "  def build_Transformer(self, num_layers, num_heads, dff, dropout, lr, time_dif=False, focus_area=False):\n",
        "    #function to build transformer architecture\n",
        "    inputs = {}\n",
        "    dim_1 = self.seq_len-1\n",
        "    inputs['act_id'] = tf.keras.Input(batch_input_shape=(self.batch_size, dim_1),name='act_id', dtype=tf.int32)\n",
        "    ## Create encoding padding mask\n",
        "    padding_mask = create_padding_mask(inputs[\"act_id\"], num_heads)\n",
        "\n",
        "    embedding_input = tf.keras.layers.Embedding(input_dim=self.vocab_size, output_dim=self.emb_size, \n",
        "                      weights=[self.emb_matrix], trainable=True, mask_zero = True, name='embedding_act')(inputs['act_id'])\n",
        "    \n",
        "    if time_dif:\n",
        "      inputs['time_dif'] = tf.keras.Input(batch_input_shape=(self.batch_size, dim_1, 1),name='num_days', dtype=tf.float32)\n",
        "      embedding_input = tf.keras.layers.Concatenate(name='concat_embedding_input')([embedding_input, inputs['time_dif']])\n",
        "\n",
        "    if focus_area:\n",
        "      inputs['focus_area'] = tf.keras.Input(batch_input_shape=(self.batch_size, dim_1, 11),name='focus', dtype=tf.float32)\n",
        "      embedding_input = tf.keras.layers.Concatenate(name='concat_embedding_input')([embedding_input, inputs['focus_area']])\n",
        "\n",
        "    transformer = transformer_enc(batch_size=self.batch_size, num_layers=num_layers, d_model=self.emb_size,\n",
        "                                  num_heads=num_heads, dff=dff, seq_length=dim_1, rate=dropout)(embedding_input, True, padding_mask)\n",
        "\n",
        "    Re = tf.reduce_sum(transformer, axis=1)\n",
        "    Re = tf.keras.layers.Dropout(dropout)(Re, training=True)\n",
        "\n",
        "    output = tf.keras.layers.Dense(131, name='output', activation='softmax')(Re)\n",
        "\n",
        "    network = tf.keras.Model(inputs, output) \n",
        "    \n",
        "    if self.smoothing: #to use label smoothing or not\n",
        "      loss_fn = keras.losses.CategoricalCrossentropy(from_logits=True, label_smoothing=self.smoothing)\n",
        "    else:\n",
        "      loss_fn = keras.losses.SparseCategoricalCrossentropy(from_logits=True)\n",
        "\n",
        "    network.compile(optimizer=tf.keras.optimizers.Adam(learning_rate=lr), loss=loss_fn, metrics=['accuracy'])\n",
        "    self.network = network\n",
        "    return network\n",
        "\n",
        "  def build_NN(self, dropout_rate, lr, time_dif=False, focus_area=False):\n",
        "    #build feedforward network\n",
        "    inputs = {}\n",
        "    dim_1 = self.seq_len-1\n",
        "    inputs['act_id'] = tf.keras.Input(batch_input_shape=(self.batch_size, dim_1),name='act_id', dtype=tf.int32)\n",
        "    embedding_input = tf.keras.layers.Embedding(input_dim=self.vocab_size, output_dim=self.emb_size, \n",
        "                      weights=[self.emb_matrix], trainable=True, name='embedding_act')(inputs['act_id'])\n",
        "    \n",
        "    if time_dif:\n",
        "      inputs['time_dif'] = tf.keras.Input(batch_input_shape=(self.batch_size, dim_1, 1),name='num_days', dtype=tf.float32)\n",
        "      embedding_input = tf.keras.layers.Concatenate(name='concat_embedding_input')([embedding_input, inputs['time_dif']])\n",
        "\n",
        "    if focus_area:\n",
        "      inputs['focus_area'] = tf.keras.Input(batch_input_shape=(self.batch_size, dim_1, 11),name='focus', dtype=tf.float32)\n",
        "      embedding_input = tf.keras.layers.Concatenate(name='concat_embedding_input')([embedding_input, inputs['focus_area']])\n",
        "\n",
        "    nn = tf.reduce_sum(embedding_input, axis=1)\n",
        "    nn = tf.keras.layers.Dropout(dropout_rate)(nn, training=True)\n",
        "    nn = tf.keras.layers.Dense(256, name=\"hidden\", activation=\"relu\")(nn)\n",
        "    nn = tf.keras.layers.Dropout(dropout_rate)(nn, training=True)\n",
        "    output = tf.keras.layers.Dense(self.vocab_size, name='output', activation='softmax')(nn)\n",
        "    network = tf.keras.Model(inputs, output) \n",
        "\n",
        "    if self.smoothing:\n",
        "      loss_fn = keras.losses.CategoricalCrossentropy(from_logits=True, label_smoothing=self.smoothing)\n",
        "    else:\n",
        "      loss_fn = keras.losses.SparseCategoricalCrossentropy(from_logits=True)\n",
        "    network.compile(optimizer=tf.keras.optimizers.Adam(learning_rate=lr), loss=loss_fn, metrics=['accuracy'])\n",
        "    self.network = network\n",
        "    return network\n",
        "\n",
        "  def build_LSTM(self, model, dropout_rate, lr, time_dif=False, focus_area=False):\n",
        "    #build self-attentive LSTM network\n",
        "    inputs = {}\n",
        "    dim_1 = self.seq_len-1\n",
        "    inputs['act_id'] = tf.keras.Input(batch_input_shape=(self.batch_size, dim_1),name='act_id', dtype=tf.int32)\n",
        "    embedding_input = tf.keras.layers.Embedding(input_dim=self.vocab_size, output_dim=self.emb_size, \n",
        "                      weights=[self.emb_matrix], trainable=True, mask_zero = True, name='embedding_act')(inputs['act_id'])\n",
        "\n",
        "    encoding_padding_mask = tf.math.logical_not(tf.math.equal(inputs['act_id'], 0))\n",
        "\n",
        "    if time_dif:\n",
        "      inputs['time_dif'] = tf.keras.Input(batch_input_shape=(self.batch_size, dim_1, 1),name='num_days', dtype=tf.float32)\n",
        "      embedding_input = tf.keras.layers.Concatenate(name='concat_embedding_input')([embedding_input, inputs['time_dif']])\n",
        "\n",
        "    if focus_area:\n",
        "      inputs['focus_area'] = tf.keras.Input(batch_input_shape=(self.batch_size, dim_1, 11),name='focus', dtype=tf.float32)\n",
        "      embedding_input = tf.keras.layers.Concatenate(name='concat_embedding_input')([embedding_input, inputs['focus_area']])\n",
        "\n",
        "    embedding_input = tf.keras.layers.Masking(mask_value=0.)(embedding_input)\n",
        "\n",
        "    rnn = model(embedding_input)\n",
        "    rnn = tf.keras.layers.Dropout(dropout_rate)(rnn, training=True)\n",
        "    \n",
        "    rnn= tf.keras.layers.Attention(use_scale=False, causal=True, name='attention')(inputs=[rnn, rnn], mask=[encoding_padding_mask,encoding_padding_mask])\n",
        "    rnn = tf.reduce_sum(rnn, axis=1)\n",
        "    rnn = tf.keras.layers.Dropout(dropout_rate)(rnn, training=True)\n",
        "    \n",
        "\n",
        "    output = tf.keras.layers.Dense(self.vocab_size, name='output', activation='softmax')(rnn)\n",
        "\n",
        "    network = tf.keras.Model(inputs, output) \n",
        "\n",
        "    loss_fn = self.loss_1 if self.smoothing else self.loss_2\n",
        "\n",
        "    network.compile(optimizer=tf.keras.optimizers.Adam(learning_rate=lr), loss=loss_fn, metrics=['accuracy'])\n",
        "    self.network = network\n",
        "    return network\n",
        "  \n",
        "  def load(self, path):#load network weights from checkpoint\n",
        "    self.network.load_weights(path)\n",
        "  \n",
        "  def find_one(self, L): #find index of focus areas of an activity\n",
        "    ind = []\n",
        "    for i,v in enumerate(L):\n",
        "      if v==1:\n",
        "        ind.append(i)\n",
        "    return set(ind)\n",
        "    \n",
        "  def uncertainty(self, times, test_set=None):#evaluate uncertainty by using drop out.\n",
        "    if test_set is None:\n",
        "      test_data = self.test_set.batch(self.batch_size, drop_remainder=True)\n",
        "    else:\n",
        "      test_data = test_set.batch(self.batch_size, drop_remainder=True)\n",
        "\n",
        "    preds = [self.network.predict(test_data) for i in range(times)]\n",
        "    means = np.mean(preds, axis = 0)\n",
        "    vars = np.var(preds, axis = 0)\n",
        "    return means, vars\n",
        "\n",
        "  def topk_accuracy(self, k, means=None, times=200):#compute the recall@k\n",
        "    if means is None:\n",
        "      preds = self.uncertainty(times)[0]\n",
        "    else:\n",
        "      preds = means\n",
        "    targets = np.array(self.target_test) if not self.smoothing else np.argmax(self.target_test, axis=1)\n",
        "    len_test = min(preds.shape[0], targets.shape[0])\n",
        "\n",
        "    corrects = np.zeros(len(k))\n",
        "    for i in range(len_test):\n",
        "      label = targets[i]\n",
        "      ind = np.argsort(means[i])[::-1]\n",
        "      for j in range(len(k)):\n",
        "        if label in ind[:k[j]]:\n",
        "          corrects[j] += 1\n",
        "    return corrects/len_test\n",
        "\n",
        "  def soft_evaluation(self, means=None, times=200): #compute AreaScore\n",
        "    if means is None:\n",
        "      probs = self.uncertainty(times)[0]\n",
        "    else:\n",
        "      probs = means\n",
        "    targs = np.array(self.target_test) if not self.smoothing else np.argmax(self.target_test, axis=1)\n",
        "    preds = np.argmax(probs, axis=1)\n",
        "    total = []\n",
        "    for i in range(preds.shape[0]):\n",
        "      pred = preds[i]\n",
        "      targ = targs[i]\n",
        "      pred_fa = self.data.id2act[pred][1]\n",
        "      target_fa = self.data.id2act[targ][1]\n",
        "      pred_ind = self.find_one(pred_fa)\n",
        "      target_ind = self.find_one(target_fa)\n",
        "      num1 = len(pred_ind)\n",
        "      num2 = len(target_ind)\n",
        "      num = num1 - len(pred_ind - target_ind)\n",
        "      if num1>=num2:\n",
        "        correct = num/num1\n",
        "      else:\n",
        "        correct = num/num2\n",
        "      total.append(correct)\n",
        "    return np.mean(total)"
      ],
      "metadata": {
        "id": "4KfFcIG8o8Co"
      },
      "execution_count": null,
      "outputs": []
    },
    {
      "cell_type": "code",
      "source": [
        "#define the following network builder for convenience\n",
        "def build_lstm(obj, embedding, dropout, lr, model, time_dif=False, focus_area=False):\n",
        "  obj.get_embedding(embedding)\n",
        "  return obj.build_LSTM(model, dropout, lr, time_dif, focus_area)\n",
        "\n",
        "def build_nn(obj, embedding, dropout, lr, time_dif=False, focus_area=False):\n",
        "  obj.get_embedding(embedding)\n",
        "  return obj.build_NN(dropout, lr, time_dif=False, focus_area=False)\n",
        "\n",
        "def build_transformer(obj, embedding, num_layers, num_heads, dff, dropout, lr, time_dif=False, focus_area=False):\n",
        "  obj.get_embedding(embedding)\n",
        "  return obj.build_Transformer(num_layers, num_heads, dff, dropout, lr, time_dif=False, focus_area=False)\n",
        "\n",
        "def loss_plot(history): #train/val loss plot function\n",
        "  fig, ax = plt.subplots(figsize=(10, 5))\n",
        "  plt.plot(history.history['loss'], label='Train loss')\n",
        "  plt.plot(history.history['val_loss'],label='Validation loss')\n",
        "  plt.ylabel('categorical_crossentropy', fontsize=10)\n",
        "  plt.xlabel('Epochs', fontsize=10)\n",
        "  plt.legend()\n",
        "  plt.grid()"
      ],
      "metadata": {
        "id": "FyTB6nd0lVId"
      },
      "execution_count": null,
      "outputs": []
    },
    {
      "cell_type": "markdown",
      "source": [
        "##4.1 Feed-forward neural network with embedding"
      ],
      "metadata": {
        "id": "hpwWSUa34yJa"
      }
    },
    {
      "cell_type": "code",
      "source": [
        "model_train = Train_model(11) #assign object\n",
        "model_train.data_prepare(32, \"movie_pkl_2.5w\", kfold=0) # prepare data for training or testing"
      ],
      "metadata": {
        "id": "zPUKoTyt26KF"
      },
      "execution_count": null,
      "outputs": []
    },
    {
      "cell_type": "code",
      "source": [
        "embed = \"movie_SBERT\"\n",
        "NN_train = build_nn(model_train, embed, 0.2, 1e-3)"
      ],
      "metadata": {
        "id": "v6d16j65iVvg"
      },
      "execution_count": null,
      "outputs": []
    },
    {
      "cell_type": "code",
      "source": [
        "checkpoint_path = \"Checkpoints/\"+embed+\"/cp.ckpt\"\n",
        "checkpoint_dir = os.path.dirname(checkpoint_path)\n",
        "# Create a callback that saves the model's weights\n",
        "cp_callback = tf.keras.callbacks.ModelCheckpoint(filepath=checkpoint_path, save_weights_only=True, monitor=\"val_loss\",\n",
        "    verbose=1, save_best_only=True)"
      ],
      "metadata": {
        "id": "MZFslau1OrEg"
      },
      "execution_count": null,
      "outputs": []
    },
    {
      "cell_type": "code",
      "source": [
        "history = NN_train.fit(model_train.train_dataset, steps_per_epoch=model_train.steps, epochs = 50,\n",
        "                validation_data = model_train.val_dataset, callbacks=[cp_callback],verbose=0)"
      ],
      "metadata": {
        "id": "Wf68mh5F4KhF"
      },
      "execution_count": null,
      "outputs": []
    },
    {
      "cell_type": "code",
      "source": [
        "loss_plot(history)"
      ],
      "metadata": {
        "colab": {
          "base_uri": "https://localhost:8080/",
          "height": 279
        },
        "id": "iKo1t0Cn5a9x",
        "outputId": "322ca5b9-b914-40f0-be66-8a90fd9b7eb6"
      },
      "execution_count": null,
      "outputs": [
        {
          "output_type": "display_data",
          "data": {
            "text/plain": [
              "<Figure size 576x288 with 1 Axes>"
            ],
            "image/png": "[encoded data removed]"
          },
          "metadata": {
            "needs_background": "light"
          }
        }
      ]
    },
    {
      "cell_type": "markdown",
      "source": [
        "**Testing**"
      ],
      "metadata": {
        "id": "V6l3SZitPVgy"
      }
    },
    {
      "cell_type": "code",
      "source": [
        "model_train.load(checkpoint_path)\n",
        "means, vars = model_train.uncertainty(200)"
      ],
      "metadata": {
        "id": "-BaPOpP5w1ck"
      },
      "execution_count": null,
      "outputs": []
    },
    {
      "cell_type": "code",
      "source": [
        "print(\"Coverage\": np.unique(np.argmax(means, axis=1)).shape)"
      ],
      "metadata": {
        "id": "jMJ9dFA50Sl0"
      },
      "execution_count": null,
      "outputs": []
    },
    {
      "cell_type": "code",
      "source": [
        "model_train.topk_accuracy([1,2,5], means)"
      ],
      "metadata": {
        "colab": {
          "base_uri": "https://localhost:8080/"
        },
        "id": "wLqps6m1zDs4",
        "outputId": "6de6314c-26a2-4a91-d71e-f37c14ab4fd0"
      },
      "execution_count": null,
      "outputs": [
        {
          "output_type": "execute_result",
          "data": {
            "text/plain": [
              "array([0.08386076, 0.13212025, 0.21716772])"
            ]
          },
          "metadata": {},
          "execution_count": 106
        }
      ]
    },
    {
      "cell_type": "markdown",
      "source": [
        "## 4.2 LSTM"
      ],
      "metadata": {
        "id": "4w0UaJdAthqk"
      }
    },
    {
      "cell_type": "code",
      "source": [
        "model_train = Train_model(11) #assign object\n",
        "model_train.data_prepare(32, \"koa_pkl\", kfold=0, smoothing=0.3) # prepare data for training or testing"
      ],
      "metadata": {
        "id": "p1NOc3I3uJKX"
      },
      "execution_count": null,
      "outputs": []
    },
    {
      "cell_type": "code",
      "source": [
        "tf.keras.regularizers.L1L2(l1=1e-5, l2=1e-4)"
      ],
      "metadata": {
        "id": "xuglp6E77PSS"
      },
      "execution_count": null,
      "outputs": []
    },
    {
      "cell_type": "code",
      "source": [
        "embed = \"koa_Doc2Vec\"\n",
        "model = Model_LSTM(dim=128, reg=None)\n",
        "LSTM_train = build_lstm(model_train, embed, 0.4, 1e-4, model)"
      ],
      "metadata": {
        "id": "Bbsk9usptpMJ"
      },
      "execution_count": null,
      "outputs": []
    },
    {
      "cell_type": "code",
      "source": [
        "LSTM_train.summary()"
      ],
      "metadata": {
        "id": "cQE7ufIsBypf"
      },
      "execution_count": null,
      "outputs": []
    },
    {
      "cell_type": "code",
      "source": [
        "checkpoint_path = \"Checkpoints/\"+embed+\"/cp.ckpt\"\n",
        "checkpoint_dir = os.path.dirname(checkpoint_path)\n",
        "# Create a callback that saves the model's weights\n",
        "cp_callback = tf.keras.callbacks.ModelCheckpoint(filepath=checkpoint_path, save_weights_only=True, monitor=\"val_loss\",\n",
        "    verbose=1, save_best_only=True)"
      ],
      "metadata": {
        "id": "fPM4tZ-YtyrC"
      },
      "execution_count": null,
      "outputs": []
    },
    {
      "cell_type": "code",
      "source": [
        "history = LSTM_train.fit(model_train.train_dataset, steps_per_epoch=model_train.steps, epochs = 50,\n",
        "                validation_data = model_train.val_dataset, callbacks=[cp_callback],verbose=0)"
      ],
      "metadata": {
        "id": "aP62NfP5tySg"
      },
      "execution_count": null,
      "outputs": []
    },
    {
      "cell_type": "code",
      "source": [
        "loss_plot(history)"
      ],
      "metadata": {
        "colab": {
          "base_uri": "https://localhost:8080/",
          "height": 335
        },
        "id": "M_AHg98c-jnC",
        "outputId": "4b5f81ef-5634-40db-d04d-2ffed15595b9"
      },
      "execution_count": null,
      "outputs": [
        {
          "output_type": "display_data",
          "data": {
            "text/plain": [
              "<Figure size 720x360 with 1 Axes>"
            ],
            "image/png": "[encoded data removed]"
          },
          "metadata": {
            "needs_background": "light"
          }
        }
      ]
    },
    {
      "cell_type": "markdown",
      "source": [
        "**Testing**"
      ],
      "metadata": {
        "id": "vDmI62o-wnys"
      }
    },
    {
      "cell_type": "code",
      "source": [
        "model_train.load(checkpoint_path)\n",
        "means, vars = model_train.uncertainty(200)"
      ],
      "metadata": {
        "id": "jInm7I-Vwp-7"
      },
      "execution_count": null,
      "outputs": []
    },
    {
      "cell_type": "code",
      "source": [
        "print(\"Coverage:\", np.unique(np.argmax(means, axis=1)).shape)"
      ],
      "metadata": {
        "colab": {
          "base_uri": "https://localhost:8080/"
        },
        "id": "U_L5XpwD-s80",
        "outputId": "eefc11a7-5d24-4c63-f9ea-c17898b0a824"
      },
      "execution_count": null,
      "outputs": [
        {
          "output_type": "stream",
          "name": "stdout",
          "text": [
            "Coverage: (129,)\n"
          ]
        }
      ]
    },
    {
      "cell_type": "code",
      "source": [
        "model_train.topk_accuracy([1,2,5], means)"
      ],
      "metadata": {
        "colab": {
          "base_uri": "https://localhost:8080/"
        },
        "id": "LTXpiu7h-tGM",
        "outputId": "53ea2d7a-a80f-497f-90e0-338b877a13a4"
      },
      "execution_count": null,
      "outputs": [
        {
          "output_type": "execute_result",
          "data": {
            "text/plain": [
              "array([0.08821203, 0.13291139, 0.2278481 ])"
            ]
          },
          "metadata": {},
          "execution_count": 133
        }
      ]
    },
    {
      "cell_type": "markdown",
      "source": [
        "## 4.3 Transformer"
      ],
      "metadata": {
        "id": "jvxOJXxMthuc"
      }
    },
    {
      "cell_type": "code",
      "source": [
        "model_train = Train_model(11) #assign object\n",
        "model_train.data_prepare(32, \"movie_pkl_2.5w\", kfold=0, smoothing=0.1) # prepare data for training or testing"
      ],
      "metadata": {
        "id": "gDvUaQTdt6ha"
      },
      "execution_count": null,
      "outputs": []
    },
    {
      "cell_type": "code",
      "source": [
        "embed = \"movie_Doc2Vec\"\n",
        "transformer_train = build_transformer(model_train, embed, 1, 4, 128, 0.2, 1e-4)"
      ],
      "metadata": {
        "id": "aTqXVxUvtpnR"
      },
      "execution_count": null,
      "outputs": []
    },
    {
      "cell_type": "code",
      "source": [
        "transformer_train.summary()"
      ],
      "metadata": {
        "id": "GVMFlJvXNdQk"
      },
      "execution_count": null,
      "outputs": []
    },
    {
      "cell_type": "code",
      "source": [
        "checkpoint_path = \"Checkpoints/\"+embed+\"/cp.ckpt\"\n",
        "checkpoint_dir = os.path.dirname(checkpoint_path)\n",
        "# Create a callback that saves the model's weights\n",
        "cp_callback = tf.keras.callbacks.ModelCheckpoint(filepath=checkpoint_path, save_weights_only=True, monitor=\"val_loss\",\n",
        "    verbose=1, save_best_only=True)"
      ],
      "metadata": {
        "id": "5f5Ca9-It6j4"
      },
      "execution_count": null,
      "outputs": []
    },
    {
      "cell_type": "code",
      "source": [
        "history = transformer_train.fit(model_train.train_dataset, steps_per_epoch=model_train.steps, epochs = 50,\n",
        "                validation_data = model_train.val_dataset, callbacks=[cp_callback],verbose=0)"
      ],
      "metadata": {
        "id": "BpR3R2eDuU_w"
      },
      "execution_count": null,
      "outputs": []
    },
    {
      "cell_type": "code",
      "source": [
        "loss_plot(history)"
      ],
      "metadata": {
        "id": "OPTWLsnwJRRc",
        "colab": {
          "base_uri": "https://localhost:8080/",
          "height": 334
        },
        "outputId": "89c66e27-8108-405c-9a37-e7b8f7171294"
      },
      "execution_count": null,
      "outputs": [
        {
          "output_type": "display_data",
          "data": {
            "text/plain": [
              "<Figure size 720x360 with 1 Axes>"
            ],
            "image/png": "[encoded data removed]"
          },
          "metadata": {
            "needs_background": "light"
          }
        }
      ]
    },
    {
      "cell_type": "markdown",
      "source": [
        "**Testing**"
      ],
      "metadata": {
        "id": "GMLBvP22wqrY"
      }
    },
    {
      "cell_type": "code",
      "source": [
        "records = []"
      ],
      "metadata": {
        "id": "naw628CTIOWm"
      },
      "execution_count": null,
      "outputs": []
    },
    {
      "cell_type": "code",
      "source": [
        "model_train.load(checkpoint_path)\n",
        "means, vars = model_train.uncertainty(200)\n",
        "hard = model_train.topk_accuracy([1,2,5], means)\n",
        "soft = model_train.soft_evaluation(means)"
      ],
      "metadata": {
        "id": "EWa8Wj8ywsA6"
      },
      "execution_count": null,
      "outputs": []
    },
    {
      "cell_type": "code",
      "source": [
        "np.mean(vars)"
      ],
      "metadata": {
        "colab": {
          "base_uri": "https://localhost:8080/"
        },
        "id": "xSWYF9XEI2HP",
        "outputId": "9235e78b-7727-4c07-fc3d-eef2e9332076"
      },
      "execution_count": null,
      "outputs": [
        {
          "output_type": "execute_result",
          "data": {
            "text/plain": [
              "2.4117384e-05"
            ]
          },
          "metadata": {},
          "execution_count": 125
        }
      ]
    },
    {
      "cell_type": "code",
      "source": [
        "print(\"Coverage:\", np.unique(np.argmax(means, axis=1)).shape)"
      ],
      "metadata": {
        "colab": {
          "base_uri": "https://localhost:8080/"
        },
        "id": "gZIrxTeK5dxk",
        "outputId": "b1620740-3efb-4d5a-f9a9-ceb6a3cbaf24"
      },
      "execution_count": null,
      "outputs": [
        {
          "output_type": "stream",
          "name": "stdout",
          "text": [
            "Coverage: (86,)\n"
          ]
        }
      ]
    },
    {
      "cell_type": "code",
      "source": [
        "records.append((hard, soft))"
      ],
      "metadata": {
        "id": "-tcvgsZjS9jH"
      },
      "execution_count": null,
      "outputs": []
    },
    {
      "cell_type": "code",
      "source": [
        "records"
      ],
      "metadata": {
        "colab": {
          "base_uri": "https://localhost:8080/"
        },
        "id": "pyhmcTR_xEQs",
        "outputId": "09b7ff74-e0ee-4ba4-a3d1-82bf5f43c197"
      },
      "execution_count": null,
      "outputs": [
        {
          "output_type": "execute_result",
          "data": {
            "text/plain": [
              "[(array([0.11392405, 0.16337025, 0.26542722]), 0.3276832805907173),\n",
              " (array([0.12183544, 0.17128165, 0.26661392]), 0.3242220464135021)]"
            ]
          },
          "metadata": {},
          "execution_count": 35
        }
      ]
    },
    {
      "cell_type": "markdown",
      "source": [
        "##4.4 Cross evaluation"
      ],
      "metadata": {
        "id": "pWuQh7RwhyfO"
      }
    },
    {
      "cell_type": "code",
      "source": [
        "koa_train = Train_model(11)\n",
        "params = {\"LSTM\": [Model_LSTM(dim=256, reg=tf.keras.regularizers.L1L2(l1=1e-5, l2=1e-4)), False, False],\n",
        "          \"Transformer\": [1, 4, 256]}\n",
        "model_name = \"NN\""
      ],
      "metadata": {
        "id": "a3hrByVGdKOc"
      },
      "execution_count": null,
      "outputs": []
    },
    {
      "cell_type": "code",
      "source": [
        "def cross_evaluation(obj, batch_size, dataset, embedding, dropout, lr, model_name, params):\n",
        "  mapp = {\"evaluations\": [],\n",
        "          \"soft_evaluations\": [],\n",
        "          \"model_vars\": [],\n",
        "          \"model_coverage\": []}\n",
        "\n",
        "  obj.get_embedding(embedding)\n",
        "  for fold_k in range(1, 6):\n",
        "    obj.data_prepare(batch_size, dataset=dataset, kfold=fold_k)\n",
        "    if model_name == \"LSTM\":\n",
        "      network, time_dif, focus_area = params[\"LSTM\"]\n",
        "      model_train = obj.build_LSTM(network, dropout, lr, time_dif, focus_area)\n",
        "    elif model_name == \"NN\":\n",
        "      model_train = obj.build_NN(dropout, lr)\n",
        "    else:\n",
        "      num_layers, num_heads, dff = params[\"Transformer\"]\n",
        "      model_train = obj.build_Transformer(num_layers, num_heads, dff, dropout, lr)\n",
        "\n",
        "    checkpoint_path = \"Checkpoints/\"+embedding+\"/cp.ckpt\"\n",
        "    checkpoint_dir = os.path.dirname(checkpoint_path)\n",
        "    cp_callback = tf.keras.callbacks.ModelCheckpoint(filepath=checkpoint_path, save_weights_only=True, monitor=\"val_loss\",\n",
        "        verbose=1, save_best_only=True)\n",
        "    \n",
        "    model_train.fit(obj.train_dataset, steps_per_epoch=obj.steps, epochs = 100,\n",
        "                validation_data = obj.val_dataset, callbacks=[cp_callback], verbose=0)\n",
        "    obj.load(checkpoint_path)\n",
        "    means, vars = obj.uncertainty(200)\n",
        "    evaluation = obj.topk_accuracy([1,2,5], means)\n",
        "    soft_evaluation = obj.soft_evaluation(means)\n",
        "    model_var = np.mean(vars)\n",
        "    model_cover = np.unique(np.argmax(means, axis=1)).shape\n",
        "\n",
        "    mapp[\"model_coverage\"].append(model_cover)\n",
        "    mapp[\"model_vars\"].append(model_var)\n",
        "    mapp[\"soft_evaluations\"].append(soft_evaluation)\n",
        "    mapp[\"evaluations\"].append(evaluation)\n",
        "  return mapp"
      ],
      "metadata": {
        "id": "1RwCJdKRZvWL"
      },
      "execution_count": null,
      "outputs": []
    },
    {
      "cell_type": "code",
      "source": [
        "results = cross_evaluation(koa_train, 16, \"koa_pkl\", \"koa_Doc2Vec\", 0.3, 1e-4, model_name, params)"
      ],
      "metadata": {
        "id": "zrgE8IEah8Rg"
      },
      "execution_count": null,
      "outputs": []
    },
    {
      "cell_type": "code",
      "source": [
        "results"
      ],
      "metadata": {
        "colab": {
          "base_uri": "https://localhost:8080/"
        },
        "id": "koB8_o_dRetJ",
        "outputId": "399a48ee-24ef-49d7-e067-d1568359477e"
      },
      "execution_count": null,
      "outputs": [
        {
          "output_type": "execute_result",
          "data": {
            "text/plain": [
              "{'evaluations': [array([0.0625  , 0.09375 , 0.171875]),\n",
              "  array([0.109375, 0.125   , 0.171875]),\n",
              "  array([0.0625 , 0.09375, 0.25   ]),\n",
              "  array([0.125  , 0.15625, 0.3125 ]),\n",
              "  array([0.046875, 0.078125, 0.171875])],\n",
              " 'soft_evaluations': [0.30963541666666666,\n",
              "  0.35468750000000004,\n",
              "  0.30781250000000004,\n",
              "  0.4375,\n",
              "  0.3809895833333333],\n",
              " 'model_vars': [4.0531795e-05,\n",
              "  2.5831909e-05,\n",
              "  2.9038112e-05,\n",
              "  4.8504768e-05,\n",
              "  6.708542e-05],\n",
              " 'model_coverage': [(2,), (1,), (1,), (1,), (3,)]}"
            ]
          },
          "metadata": {},
          "execution_count": 19
        }
      ]
    },
    {
      "cell_type": "code",
      "source": [
        "np.mean(results[\"evaluations\"], axis=0), np.mean(results[\"soft_evaluations\"]), np.mean(results[\"model_vars\"])"
      ],
      "metadata": {
        "colab": {
          "base_uri": "https://localhost:8080/"
        },
        "id": "U--1EcN6L52g",
        "outputId": "d5dded8f-bd1d-424a-bf21-ea65fbcea3fe"
      },
      "execution_count": null,
      "outputs": [
        {
          "output_type": "execute_result",
          "data": {
            "text/plain": [
              "(array([0.08125 , 0.109375, 0.215625]), 0.35812499999999997, 4.21984e-05)"
            ]
          },
          "metadata": {},
          "execution_count": 20
        }
      ]
    },
    {
      "cell_type": "markdown",
      "source": [
        "## 4.5 Uncertainty plot"
      ],
      "metadata": {
        "id": "dF-KCpSQc68V"
      }
    },
    {
      "cell_type": "code",
      "source": [
        "def plot_uncertainty(user_idx,means,vars,act_size):\n",
        "  m = np.squeeze(means[user_idx])\n",
        "  v = np.squeeze(vars[user_idx])\n",
        "\n",
        "\n",
        "  fig, ax = plt.subplots(figsize=(30, 7))\n",
        "\n",
        "  plt.errorbar(range(0,act_size+1,1), m, yerr=2*v**0.5, fmt='o', color='cornflowerblue',\n",
        "             ecolor='lightgray', elinewidth=3, capsize=0)\n",
        "  plt.ylabel('Probabilities', fontsize=10)\n",
        "  plt.xlabel('Activity labels', fontsize=10)\n",
        "  plt.grid()"
      ],
      "metadata": {
        "id": "9KiuNiD3c_Tp"
      },
      "execution_count": null,
      "outputs": []
    },
    {
      "cell_type": "markdown",
      "source": [
        "## 4.6 PopAct baseline"
      ],
      "metadata": {
        "id": "iShV66hZdDT4"
      }
    },
    {
      "cell_type": "code",
      "source": [
        "def pop_act_topk_accuracy(model, k, top_act_num):\n",
        "\n",
        "  train_np = np.stack(list(model.train_dataset))\n",
        "  val_np = np.stack(list(model.val_dataset))\n",
        "  train_list = []\n",
        "  targets = []\n",
        "\n",
        "  for i in range(train_np.shape[0]):\n",
        "    train_list.extend(train_np[i][0]['act_id'].numpy().flatten())\n",
        "    train_list.extend(train_np[i][1].numpy().flatten())\n",
        "\n",
        "  for i in range(val_np.shape[0]):\n",
        "    targets.extend(val_np[i][1].numpy().flatten())\n",
        "  targets.extend(model.target_test)\n",
        "\n",
        "  train_list = pd.DataFrame(train_list)\n",
        "\n",
        "  distribution = (train_list.value_counts()[1:top_act_num+1]/sum(train_list.value_counts()[1:top_act_num+1])).to_list()\n",
        "  index = train_list.value_counts().keys()[1:top_act_num+1]\n",
        "  index = [index[i][0] for i in range(index.shape[0])]\n",
        "\n",
        "  corrects = 0\n",
        "  for i in range(len(targets)):\n",
        "    label = targets[i]\n",
        "    ind = [np.random.choice(index, p=distribution, replace = False) for i in range(k)]\n",
        "    if label in ind:\n",
        "        corrects += 1\n",
        "  return corrects/len(targets)"
      ],
      "metadata": {
        "id": "WdPPNl0ZdGIx"
      },
      "execution_count": null,
      "outputs": []
    }
  ],
  "metadata": {
    "accelerator": "GPU",
    "colab": {
      "collapsed_sections": [
        "178afUiOv19a",
        "hpwWSUa34yJa",
        "dF-KCpSQc68V",
        "iShV66hZdDT4"
      ],
      "name": "SBERT_pf.ipynb",
      "provenance": [],
      "machine_shape": "hm",
      "toc_visible": true
    },
    "kernelspec": {
      "display_name": "Python 3",
      "name": "python3"
    },
    "language_info": {
      "name": "python"
    },
    "gpuClass": "standard"
  },
  "nbformat": 4,
  "nbformat_minor": 0
}